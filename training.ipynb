{
 "cells": [
  {
   "cell_type": "code",
   "execution_count": 1,
   "metadata": {},
   "outputs": [],
   "source": [
    "import numpy as np\n",
    "from sklearn.model_selection import train_test_split\n",
    "import matplotlib.pyplot as plt\n",
    "import tensorflow as tf\n",
    "from tensorflow.keras.layers import Input, Dense, Flatten, Conv2D, MaxPooling2D, Dropout\n",
    "from tensorflow.keras.optimizers import Adam\n",
    "from tensorflow.keras.models import Model\n",
    "from tensorflow.keras.callbacks import EarlyStopping\n",
    "from tensorflow.keras.losses import MeanSquaredError\n",
    "from sklearn.preprocessing import MinMaxScaler, StandardScaler\n",
    "import random\n",
    "import os"
   ]
  },
  {
   "cell_type": "code",
   "execution_count": 2,
   "metadata": {},
   "outputs": [
    {
     "name": "stdout",
     "output_type": "stream",
     "text": [
      "board_384417\n",
      "248596\n",
      "Loaded 1000 matrices\n",
      "Loaded 2000 matrices\n",
      "Loaded 3000 matrices\n",
      "Loaded 4000 matrices\n",
      "Loaded 5000 matrices\n",
      "Loaded 6000 matrices\n",
      "Loaded 7000 matrices\n",
      "Loaded 8000 matrices\n",
      "Loaded 9000 matrices\n",
      "Loaded 10000 matrices\n",
      "Loaded 11000 matrices\n",
      "Loaded 12000 matrices\n",
      "Loaded 13000 matrices\n",
      "Loaded 14000 matrices\n",
      "Loaded 15000 matrices\n",
      "Loaded 16000 matrices\n",
      "Loaded 17000 matrices\n",
      "Loaded 18000 matrices\n",
      "Loaded 19000 matrices\n",
      "Loaded 20000 matrices\n",
      "Loaded 21000 matrices\n",
      "Loaded 22000 matrices\n",
      "Loaded 23000 matrices\n",
      "Loaded 24000 matrices\n",
      "Loaded 25000 matrices\n",
      "Loaded 26000 matrices\n",
      "Loaded 27000 matrices\n",
      "Loaded 28000 matrices\n",
      "Loaded 29000 matrices\n",
      "Loaded 30000 matrices\n",
      "Loaded 31000 matrices\n",
      "Loaded 32000 matrices\n",
      "Loaded 33000 matrices\n",
      "Loaded 34000 matrices\n",
      "Loaded 35000 matrices\n",
      "Loaded 36000 matrices\n",
      "Loaded 37000 matrices\n",
      "Loaded 38000 matrices\n",
      "Loaded 39000 matrices\n",
      "Loaded 40000 matrices\n",
      "Loaded 41000 matrices\n",
      "Loaded 42000 matrices\n",
      "Loaded 43000 matrices\n",
      "Loaded 44000 matrices\n",
      "Loaded 45000 matrices\n",
      "Loaded 46000 matrices\n",
      "Loaded 47000 matrices\n",
      "Loaded 48000 matrices\n",
      "Loaded 49000 matrices\n",
      "Loaded 50000 matrices\n",
      "Loaded 51000 matrices\n",
      "Loaded 52000 matrices\n",
      "Loaded 53000 matrices\n",
      "Loaded 54000 matrices\n",
      "Loaded 55000 matrices\n",
      "Loaded 56000 matrices\n",
      "Loaded 57000 matrices\n",
      "Loaded 58000 matrices\n",
      "Loaded 59000 matrices\n",
      "Loaded 60000 matrices\n",
      "Loaded 61000 matrices\n",
      "Loaded 62000 matrices\n",
      "Loaded 63000 matrices\n",
      "Loaded 64000 matrices\n",
      "Loaded 65000 matrices\n",
      "Loaded 66000 matrices\n",
      "Loaded 67000 matrices\n",
      "Loaded 68000 matrices\n",
      "Loaded 69000 matrices\n",
      "Loaded 70000 matrices\n",
      "Loaded 71000 matrices\n",
      "Loaded 72000 matrices\n",
      "Loaded 73000 matrices\n",
      "Loaded 74000 matrices\n",
      "Loaded 75000 matrices\n",
      "Loaded 76000 matrices\n",
      "Loaded 77000 matrices\n",
      "Loaded 78000 matrices\n",
      "Loaded 79000 matrices\n",
      "Loaded 80000 matrices\n",
      "Loaded 81000 matrices\n",
      "Loaded 82000 matrices\n",
      "Loaded 83000 matrices\n",
      "Loaded 84000 matrices\n",
      "Loaded 85000 matrices\n",
      "Loaded 86000 matrices\n",
      "Loaded 87000 matrices\n",
      "Loaded 88000 matrices\n",
      "Loaded 89000 matrices\n",
      "Loaded 90000 matrices\n",
      "Loaded 91000 matrices\n",
      "Loaded 92000 matrices\n",
      "Loaded 93000 matrices\n",
      "Loaded 94000 matrices\n",
      "Loaded 95000 matrices\n",
      "Loaded 96000 matrices\n",
      "Loaded 97000 matrices\n",
      "Loaded 98000 matrices\n",
      "Loaded 99000 matrices\n",
      "Loaded 100000 matrices\n",
      "Loaded 101000 matrices\n",
      "Loaded 102000 matrices\n",
      "Loaded 103000 matrices\n",
      "Loaded 104000 matrices\n",
      "Loaded 105000 matrices\n",
      "Loaded 106000 matrices\n",
      "Loaded 107000 matrices\n",
      "Loaded 108000 matrices\n",
      "Loaded 109000 matrices\n",
      "Loaded 110000 matrices\n",
      "Loaded 111000 matrices\n",
      "Loaded 112000 matrices\n",
      "Loaded 113000 matrices\n",
      "Loaded 114000 matrices\n",
      "Loaded 115000 matrices\n",
      "Loaded 116000 matrices\n",
      "Loaded 117000 matrices\n",
      "Loaded 118000 matrices\n",
      "Loaded 119000 matrices\n",
      "Loaded 120000 matrices\n",
      "Loaded 121000 matrices\n",
      "Loaded 122000 matrices\n",
      "Loaded 123000 matrices\n",
      "Loaded 124000 matrices\n",
      "Loaded 125000 matrices\n",
      "Loaded 126000 matrices\n",
      "Loaded 127000 matrices\n",
      "Loaded 128000 matrices\n",
      "Loaded 129000 matrices\n",
      "Loaded 130000 matrices\n",
      "Loaded 131000 matrices\n",
      "Loaded 132000 matrices\n",
      "Loaded 133000 matrices\n",
      "Loaded 134000 matrices\n",
      "Loaded 135000 matrices\n",
      "Loaded 136000 matrices\n",
      "Loaded 137000 matrices\n",
      "Loaded 138000 matrices\n",
      "Loaded 139000 matrices\n",
      "Loaded 140000 matrices\n",
      "Loaded 141000 matrices\n",
      "Loaded 142000 matrices\n",
      "Loaded 143000 matrices\n",
      "Loaded 144000 matrices\n",
      "Loaded 145000 matrices\n",
      "Loaded 146000 matrices\n",
      "Loaded 147000 matrices\n",
      "Loaded 148000 matrices\n",
      "Loaded 149000 matrices\n",
      "Loaded 150000 matrices\n",
      "Loaded 151000 matrices\n",
      "Loaded 152000 matrices\n",
      "Loaded 153000 matrices\n",
      "Loaded 154000 matrices\n",
      "Loaded 155000 matrices\n",
      "Loaded 156000 matrices\n",
      "Loaded 157000 matrices\n",
      "Loaded 158000 matrices\n",
      "Loaded 159000 matrices\n",
      "Loaded 160000 matrices\n",
      "Loaded 161000 matrices\n",
      "Loaded 162000 matrices\n",
      "Loaded 163000 matrices\n",
      "Loaded 164000 matrices\n",
      "Loaded 165000 matrices\n",
      "Loaded 166000 matrices\n",
      "Loaded 167000 matrices\n",
      "Loaded 168000 matrices\n",
      "Loaded 169000 matrices\n",
      "Loaded 170000 matrices\n",
      "Loaded 171000 matrices\n",
      "Loaded 172000 matrices\n",
      "Loaded 173000 matrices\n",
      "Loaded 174000 matrices\n",
      "Loaded 175000 matrices\n",
      "Loaded 176000 matrices\n",
      "Loaded 177000 matrices\n",
      "Loaded 178000 matrices\n",
      "Loaded 179000 matrices\n",
      "Loaded 180000 matrices\n",
      "Loaded 181000 matrices\n",
      "Loaded 182000 matrices\n",
      "Loaded 183000 matrices\n",
      "Loaded 184000 matrices\n",
      "Loaded 185000 matrices\n",
      "Loaded 186000 matrices\n",
      "Loaded 187000 matrices\n",
      "Loaded 188000 matrices\n",
      "Loaded 189000 matrices\n",
      "Loaded 190000 matrices\n",
      "Loaded 191000 matrices\n",
      "Loaded 192000 matrices\n",
      "Loaded 193000 matrices\n",
      "Loaded 194000 matrices\n",
      "Loaded 195000 matrices\n",
      "Loaded 196000 matrices\n",
      "Loaded 197000 matrices\n",
      "Loaded 198000 matrices\n",
      "Loaded 199000 matrices\n",
      "Loaded 200000 matrices\n",
      "Loaded 201000 matrices\n",
      "Loaded 202000 matrices\n",
      "Loaded 203000 matrices\n",
      "Loaded 204000 matrices\n",
      "Loaded 205000 matrices\n",
      "Loaded 206000 matrices\n",
      "Loaded 207000 matrices\n",
      "Loaded 208000 matrices\n",
      "Loaded 209000 matrices\n",
      "Loaded 210000 matrices\n",
      "Loaded 211000 matrices\n",
      "Loaded 212000 matrices\n",
      "Loaded 213000 matrices\n",
      "Loaded 214000 matrices\n",
      "Loaded 215000 matrices\n",
      "Loaded 216000 matrices\n",
      "Loaded 217000 matrices\n",
      "Loaded 218000 matrices\n",
      "Loaded 219000 matrices\n",
      "Loaded 220000 matrices\n",
      "Loaded 221000 matrices\n",
      "Loaded 222000 matrices\n",
      "Loaded 223000 matrices\n",
      "Loaded 224000 matrices\n",
      "Loaded 225000 matrices\n",
      "Loaded 226000 matrices\n",
      "Loaded 227000 matrices\n",
      "Loaded 228000 matrices\n",
      "Loaded 229000 matrices\n",
      "Loaded 230000 matrices\n",
      "Loaded 231000 matrices\n",
      "Loaded 232000 matrices\n",
      "Loaded 233000 matrices\n",
      "Loaded 234000 matrices\n",
      "Loaded 235000 matrices\n",
      "Loaded 236000 matrices\n",
      "Loaded 237000 matrices\n",
      "Loaded 238000 matrices\n",
      "Loaded 239000 matrices\n",
      "Loaded 240000 matrices\n",
      "Loaded 241000 matrices\n",
      "Loaded 242000 matrices\n",
      "Loaded 243000 matrices\n",
      "Loaded 244000 matrices\n",
      "Loaded 245000 matrices\n",
      "Loaded 246000 matrices\n",
      "Loaded 247000 matrices\n",
      "Loaded 248000 matrices\n",
      "Shape of stacked boards array: (248596, 15, 15)\n"
     ]
    }
   ],
   "source": [
    "# Path to the .npz file\n",
    "npz_file_path = 'boards.npz'\n",
    "\n",
    "# Load the .npz file\n",
    "data = np.load(npz_file_path)\n",
    "\n",
    "# Get the list of keys (which correspond to the original .npy file names without the extension)\n",
    "keys = list(data.keys())\n",
    "\n",
    "# Load the first matrix to determine its shape\n",
    "first_matrix = data[keys[0]]\n",
    "matrix_shape = first_matrix.shape\n",
    "print(keys[0])\n",
    "print(len(keys))\n",
    "\n",
    "# Pre-allocate the array to hold all matrices\n",
    "num_matrices = len(keys)\n",
    "boards = np.empty((num_matrices, *matrix_shape), dtype=first_matrix.dtype)\n",
    "\n",
    "# Load each matrix into the pre-allocated array\n",
    "for i, key in enumerate(keys):\n",
    "    boards[i] = data[key]\n",
    "    if (i + 1) % 1000 == 0:\n",
    "        print(f'Loaded {i + 1} matrices')\n",
    "\n",
    "# Optional: Print the shape of the resulting array for verification\n",
    "print(\"Shape of stacked boards array:\", boards.shape)"
   ]
  },
  {
   "cell_type": "code",
   "execution_count": 3,
   "metadata": {},
   "outputs": [
    {
     "data": {
      "text/plain": [
       "array([-1.00000e+09, -7.70200e+02, -1.00000e+09, ..., -1.00000e+09,\n",
       "        1.04506e+04, -1.00000e+09])"
      ]
     },
     "execution_count": 3,
     "metadata": {},
     "output_type": "execute_result"
    }
   ],
   "source": [
    "with open(\"results.txt\",  \"r\") as f:\n",
    "    ratings = f.readlines()\n",
    "\n",
    "ratings = [float(rating.strip()) for rating in ratings]\n",
    "ratings = np.array(ratings)\n",
    "ratings"
   ]
  },
  {
   "cell_type": "code",
   "execution_count": 4,
   "metadata": {},
   "outputs": [
    {
     "name": "stdout",
     "output_type": "stream",
     "text": [
      "(248596, 15, 15)\n",
      "(248596,)\n"
     ]
    },
    {
     "data": {
      "image/png": "[encoded data removed]",
      "text/plain": [
       "<Figure size 640x480 with 1 Axes>"
      ]
     },
     "metadata": {},
     "output_type": "display_data"
    }
   ],
   "source": [
    "data_array = boards.reshape(-1, 15, 15, 1)\n",
    "ratings = np.array(ratings)\n",
    "\n",
    "print(boards.shape)\n",
    "print(ratings.shape)\n",
    "\n",
    "plt.hist(ratings)\n",
    "plt.show()"
   ]
  },
  {
   "cell_type": "code",
   "execution_count": 5,
   "metadata": {},
   "outputs": [
    {
     "data": {
      "image/png": "[encoded data removed]",
      "text/plain": [
       "<Figure size 640x480 with 1 Axes>"
      ]
     },
     "metadata": {},
     "output_type": "display_data"
    }
   ],
   "source": [
    "transformed_ratings = ratings / 1e9\n",
    "\n",
    "plt.hist(transformed_ratings)\n",
    "plt.show()"
   ]
  },
  {
   "cell_type": "code",
   "execution_count": 6,
   "metadata": {},
   "outputs": [],
   "source": [
    "X_train, X_test, y_train, y_test = train_test_split(boards, transformed_ratings, test_size=0.2, random_state=17)"
   ]
  },
  {
   "cell_type": "code",
   "execution_count": 15,
   "metadata": {},
   "outputs": [
    {
     "data": {
      "text/html": [
       "<pre style=\"white-space:pre;overflow-x:auto;line-height:normal;font-family:Menlo,'DejaVu Sans Mono',consolas,'Courier New',monospace\"><span style=\"font-weight: bold\">Model: \"functional_4\"</span>\n",
       "</pre>\n"
      ],
      "text/plain": [
       "\u001b[1mModel: \"functional_4\"\u001b[0m\n"
      ]
     },
     "metadata": {},
     "output_type": "display_data"
    },
    {
     "data": {
      "text/html": [
       "<pre style=\"white-space:pre;overflow-x:auto;line-height:normal;font-family:Menlo,'DejaVu Sans Mono',consolas,'Courier New',monospace\">┏━━━━━━━━━━━━━━━━━━━━━━━━━━━━━━━━━┳━━━━━━━━━━━━━━━━━━━━━━━━┳━━━━━━━━━━━━━━━┓\n",
       "┃<span style=\"font-weight: bold\"> Layer (type)                    </span>┃<span style=\"font-weight: bold\"> Output Shape           </span>┃<span style=\"font-weight: bold\">       Param # </span>┃\n",
       "┡━━━━━━━━━━━━━━━━━━━━━━━━━━━━━━━━━╇━━━━━━━━━━━━━━━━━━━━━━━━╇━━━━━━━━━━━━━━━┩\n",
       "│ input_layer_4 (<span style=\"color: #0087ff; text-decoration-color: #0087ff\">InputLayer</span>)      │ (<span style=\"color: #00d7ff; text-decoration-color: #00d7ff\">None</span>, <span style=\"color: #00af00; text-decoration-color: #00af00\">15</span>, <span style=\"color: #00af00; text-decoration-color: #00af00\">15</span>, <span style=\"color: #00af00; text-decoration-color: #00af00\">1</span>)      │             <span style=\"color: #00af00; text-decoration-color: #00af00\">0</span> │\n",
       "├─────────────────────────────────┼────────────────────────┼───────────────┤\n",
       "│ conv2d_10 (<span style=\"color: #0087ff; text-decoration-color: #0087ff\">Conv2D</span>)              │ (<span style=\"color: #00d7ff; text-decoration-color: #00d7ff\">None</span>, <span style=\"color: #00af00; text-decoration-color: #00af00\">15</span>, <span style=\"color: #00af00; text-decoration-color: #00af00\">15</span>, <span style=\"color: #00af00; text-decoration-color: #00af00\">8</span>)      │            <span style=\"color: #00af00; text-decoration-color: #00af00\">80</span> │\n",
       "├─────────────────────────────────┼────────────────────────┼───────────────┤\n",
       "│ max_pooling2d_10 (<span style=\"color: #0087ff; text-decoration-color: #0087ff\">MaxPooling2D</span>) │ (<span style=\"color: #00d7ff; text-decoration-color: #00d7ff\">None</span>, <span style=\"color: #00af00; text-decoration-color: #00af00\">7</span>, <span style=\"color: #00af00; text-decoration-color: #00af00\">7</span>, <span style=\"color: #00af00; text-decoration-color: #00af00\">8</span>)        │             <span style=\"color: #00af00; text-decoration-color: #00af00\">0</span> │\n",
       "├─────────────────────────────────┼────────────────────────┼───────────────┤\n",
       "│ conv2d_11 (<span style=\"color: #0087ff; text-decoration-color: #0087ff\">Conv2D</span>)              │ (<span style=\"color: #00d7ff; text-decoration-color: #00d7ff\">None</span>, <span style=\"color: #00af00; text-decoration-color: #00af00\">7</span>, <span style=\"color: #00af00; text-decoration-color: #00af00\">7</span>, <span style=\"color: #00af00; text-decoration-color: #00af00\">16</span>)       │         <span style=\"color: #00af00; text-decoration-color: #00af00\">1,168</span> │\n",
       "├─────────────────────────────────┼────────────────────────┼───────────────┤\n",
       "│ max_pooling2d_11 (<span style=\"color: #0087ff; text-decoration-color: #0087ff\">MaxPooling2D</span>) │ (<span style=\"color: #00d7ff; text-decoration-color: #00d7ff\">None</span>, <span style=\"color: #00af00; text-decoration-color: #00af00\">3</span>, <span style=\"color: #00af00; text-decoration-color: #00af00\">3</span>, <span style=\"color: #00af00; text-decoration-color: #00af00\">16</span>)       │             <span style=\"color: #00af00; text-decoration-color: #00af00\">0</span> │\n",
       "├─────────────────────────────────┼────────────────────────┼───────────────┤\n",
       "│ flatten_4 (<span style=\"color: #0087ff; text-decoration-color: #0087ff\">Flatten</span>)             │ (<span style=\"color: #00d7ff; text-decoration-color: #00d7ff\">None</span>, <span style=\"color: #00af00; text-decoration-color: #00af00\">144</span>)            │             <span style=\"color: #00af00; text-decoration-color: #00af00\">0</span> │\n",
       "├─────────────────────────────────┼────────────────────────┼───────────────┤\n",
       "│ dense_8 (<span style=\"color: #0087ff; text-decoration-color: #0087ff\">Dense</span>)                 │ (<span style=\"color: #00d7ff; text-decoration-color: #00d7ff\">None</span>, <span style=\"color: #00af00; text-decoration-color: #00af00\">144</span>)            │        <span style=\"color: #00af00; text-decoration-color: #00af00\">20,880</span> │\n",
       "├─────────────────────────────────┼────────────────────────┼───────────────┤\n",
       "│ dropout_4 (<span style=\"color: #0087ff; text-decoration-color: #0087ff\">Dropout</span>)             │ (<span style=\"color: #00d7ff; text-decoration-color: #00d7ff\">None</span>, <span style=\"color: #00af00; text-decoration-color: #00af00\">144</span>)            │             <span style=\"color: #00af00; text-decoration-color: #00af00\">0</span> │\n",
       "├─────────────────────────────────┼────────────────────────┼───────────────┤\n",
       "│ dense_9 (<span style=\"color: #0087ff; text-decoration-color: #0087ff\">Dense</span>)                 │ (<span style=\"color: #00d7ff; text-decoration-color: #00d7ff\">None</span>, <span style=\"color: #00af00; text-decoration-color: #00af00\">1</span>)              │           <span style=\"color: #00af00; text-decoration-color: #00af00\">145</span> │\n",
       "└─────────────────────────────────┴────────────────────────┴───────────────┘\n",
       "</pre>\n"
      ],
      "text/plain": [
       "┏━━━━━━━━━━━━━━━━━━━━━━━━━━━━━━━━━┳━━━━━━━━━━━━━━━━━━━━━━━━┳━━━━━━━━━━━━━━━┓\n",
       "┃\u001b[1m \u001b[0m\u001b[1mLayer (type)                   \u001b[0m\u001b[1m \u001b[0m┃\u001b[1m \u001b[0m\u001b[1mOutput Shape          \u001b[0m\u001b[1m \u001b[0m┃\u001b[1m \u001b[0m\u001b[1m      Param #\u001b[0m\u001b[1m \u001b[0m┃\n",
       "┡━━━━━━━━━━━━━━━━━━━━━━━━━━━━━━━━━╇━━━━━━━━━━━━━━━━━━━━━━━━╇━━━━━━━━━━━━━━━┩\n",
       "│ input_layer_4 (\u001b[38;5;33mInputLayer\u001b[0m)      │ (\u001b[38;5;45mNone\u001b[0m, \u001b[38;5;34m15\u001b[0m, \u001b[38;5;34m15\u001b[0m, \u001b[38;5;34m1\u001b[0m)      │             \u001b[38;5;34m0\u001b[0m │\n",
       "├─────────────────────────────────┼────────────────────────┼───────────────┤\n",
       "│ conv2d_10 (\u001b[38;5;33mConv2D\u001b[0m)              │ (\u001b[38;5;45mNone\u001b[0m, \u001b[38;5;34m15\u001b[0m, \u001b[38;5;34m15\u001b[0m, \u001b[38;5;34m8\u001b[0m)      │            \u001b[38;5;34m80\u001b[0m │\n",
       "├─────────────────────────────────┼────────────────────────┼───────────────┤\n",
       "│ max_pooling2d_10 (\u001b[38;5;33mMaxPooling2D\u001b[0m) │ (\u001b[38;5;45mNone\u001b[0m, \u001b[38;5;34m7\u001b[0m, \u001b[38;5;34m7\u001b[0m, \u001b[38;5;34m8\u001b[0m)        │             \u001b[38;5;34m0\u001b[0m │\n",
       "├─────────────────────────────────┼────────────────────────┼───────────────┤\n",
       "│ conv2d_11 (\u001b[38;5;33mConv2D\u001b[0m)              │ (\u001b[38;5;45mNone\u001b[0m, \u001b[38;5;34m7\u001b[0m, \u001b[38;5;34m7\u001b[0m, \u001b[38;5;34m16\u001b[0m)       │         \u001b[38;5;34m1,168\u001b[0m │\n",
       "├─────────────────────────────────┼────────────────────────┼───────────────┤\n",
       "│ max_pooling2d_11 (\u001b[38;5;33mMaxPooling2D\u001b[0m) │ (\u001b[38;5;45mNone\u001b[0m, \u001b[38;5;34m3\u001b[0m, \u001b[38;5;34m3\u001b[0m, \u001b[38;5;34m16\u001b[0m)       │             \u001b[38;5;34m0\u001b[0m │\n",
       "├─────────────────────────────────┼────────────────────────┼───────────────┤\n",
       "│ flatten_4 (\u001b[38;5;33mFlatten\u001b[0m)             │ (\u001b[38;5;45mNone\u001b[0m, \u001b[38;5;34m144\u001b[0m)            │             \u001b[38;5;34m0\u001b[0m │\n",
       "├─────────────────────────────────┼────────────────────────┼───────────────┤\n",
       "│ dense_8 (\u001b[38;5;33mDense\u001b[0m)                 │ (\u001b[38;5;45mNone\u001b[0m, \u001b[38;5;34m144\u001b[0m)            │        \u001b[38;5;34m20,880\u001b[0m │\n",
       "├─────────────────────────────────┼────────────────────────┼───────────────┤\n",
       "│ dropout_4 (\u001b[38;5;33mDropout\u001b[0m)             │ (\u001b[38;5;45mNone\u001b[0m, \u001b[38;5;34m144\u001b[0m)            │             \u001b[38;5;34m0\u001b[0m │\n",
       "├─────────────────────────────────┼────────────────────────┼───────────────┤\n",
       "│ dense_9 (\u001b[38;5;33mDense\u001b[0m)                 │ (\u001b[38;5;45mNone\u001b[0m, \u001b[38;5;34m1\u001b[0m)              │           \u001b[38;5;34m145\u001b[0m │\n",
       "└─────────────────────────────────┴────────────────────────┴───────────────┘\n"
      ]
     },
     "metadata": {},
     "output_type": "display_data"
    },
    {
     "data": {
      "text/html": [
       "<pre style=\"white-space:pre;overflow-x:auto;line-height:normal;font-family:Menlo,'DejaVu Sans Mono',consolas,'Courier New',monospace\"><span style=\"font-weight: bold\"> Total params: </span><span style=\"color: #00af00; text-decoration-color: #00af00\">22,273</span> (87.00 KB)\n",
       "</pre>\n"
      ],
      "text/plain": [
       "\u001b[1m Total params: \u001b[0m\u001b[38;5;34m22,273\u001b[0m (87.00 KB)\n"
      ]
     },
     "metadata": {},
     "output_type": "display_data"
    },
    {
     "data": {
      "text/html": [
       "<pre style=\"white-space:pre;overflow-x:auto;line-height:normal;font-family:Menlo,'DejaVu Sans Mono',consolas,'Courier New',monospace\"><span style=\"font-weight: bold\"> Trainable params: </span><span style=\"color: #00af00; text-decoration-color: #00af00\">22,273</span> (87.00 KB)\n",
       "</pre>\n"
      ],
      "text/plain": [
       "\u001b[1m Trainable params: \u001b[0m\u001b[38;5;34m22,273\u001b[0m (87.00 KB)\n"
      ]
     },
     "metadata": {},
     "output_type": "display_data"
    },
    {
     "data": {
      "text/html": [
       "<pre style=\"white-space:pre;overflow-x:auto;line-height:normal;font-family:Menlo,'DejaVu Sans Mono',consolas,'Courier New',monospace\"><span style=\"font-weight: bold\"> Non-trainable params: </span><span style=\"color: #00af00; text-decoration-color: #00af00\">0</span> (0.00 B)\n",
       "</pre>\n"
      ],
      "text/plain": [
       "\u001b[1m Non-trainable params: \u001b[0m\u001b[38;5;34m0\u001b[0m (0.00 B)\n"
      ]
     },
     "metadata": {},
     "output_type": "display_data"
    }
   ],
   "source": [
    "inp = Input(shape=(15, 15, 1))\n",
    "\n",
    "x = Conv2D(8, (3, 3), activation='relu', padding='same')(inp)\n",
    "x = MaxPooling2D((2, 2))(x)\n",
    "\n",
    "x = Conv2D(16, (3, 3), activation='relu', padding='same')(x)\n",
    "x = MaxPooling2D((2, 2))(x)\n",
    "\n",
    "x = Flatten()(x)\n",
    "x = Dense(144, activation='relu')(x)\n",
    "x= Dropout(0.5)(x)\n",
    "\n",
    "output = Dense(1, activation=\"linear\")(x)\n",
    "model = Model(inputs=inp, outputs=output)\n",
    "model.summary()"
   ]
  },
  {
   "cell_type": "code",
   "execution_count": 28,
   "metadata": {},
   "outputs": [
    {
     "data": {
      "text/html": [
       "<pre style=\"white-space:pre;overflow-x:auto;line-height:normal;font-family:Menlo,'DejaVu Sans Mono',consolas,'Courier New',monospace\"><span style=\"font-weight: bold\">Model: \"functional_6\"</span>\n",
       "</pre>\n"
      ],
      "text/plain": [
       "\u001b[1mModel: \"functional_6\"\u001b[0m\n"
      ]
     },
     "metadata": {},
     "output_type": "display_data"
    },
    {
     "data": {
      "text/html": [
       "<pre style=\"white-space:pre;overflow-x:auto;line-height:normal;font-family:Menlo,'DejaVu Sans Mono',consolas,'Courier New',monospace\">┏━━━━━━━━━━━━━━━━━━━━━━━━━━━━━━━━━┳━━━━━━━━━━━━━━━━━━━━━━━━┳━━━━━━━━━━━━━━━┓\n",
       "┃<span style=\"font-weight: bold\"> Layer (type)                    </span>┃<span style=\"font-weight: bold\"> Output Shape           </span>┃<span style=\"font-weight: bold\">       Param # </span>┃\n",
       "┡━━━━━━━━━━━━━━━━━━━━━━━━━━━━━━━━━╇━━━━━━━━━━━━━━━━━━━━━━━━╇━━━━━━━━━━━━━━━┩\n",
       "│ input_layer_6 (<span style=\"color: #0087ff; text-decoration-color: #0087ff\">InputLayer</span>)      │ (<span style=\"color: #00d7ff; text-decoration-color: #00d7ff\">None</span>, <span style=\"color: #00af00; text-decoration-color: #00af00\">15</span>, <span style=\"color: #00af00; text-decoration-color: #00af00\">15</span>, <span style=\"color: #00af00; text-decoration-color: #00af00\">1</span>)      │             <span style=\"color: #00af00; text-decoration-color: #00af00\">0</span> │\n",
       "├─────────────────────────────────┼────────────────────────┼───────────────┤\n",
       "│ conv2d_14 (<span style=\"color: #0087ff; text-decoration-color: #0087ff\">Conv2D</span>)              │ (<span style=\"color: #00d7ff; text-decoration-color: #00d7ff\">None</span>, <span style=\"color: #00af00; text-decoration-color: #00af00\">15</span>, <span style=\"color: #00af00; text-decoration-color: #00af00\">15</span>, <span style=\"color: #00af00; text-decoration-color: #00af00\">8</span>)      │            <span style=\"color: #00af00; text-decoration-color: #00af00\">80</span> │\n",
       "├─────────────────────────────────┼────────────────────────┼───────────────┤\n",
       "│ max_pooling2d_12 (<span style=\"color: #0087ff; text-decoration-color: #0087ff\">MaxPooling2D</span>) │ (<span style=\"color: #00d7ff; text-decoration-color: #00d7ff\">None</span>, <span style=\"color: #00af00; text-decoration-color: #00af00\">7</span>, <span style=\"color: #00af00; text-decoration-color: #00af00\">7</span>, <span style=\"color: #00af00; text-decoration-color: #00af00\">8</span>)        │             <span style=\"color: #00af00; text-decoration-color: #00af00\">0</span> │\n",
       "├─────────────────────────────────┼────────────────────────┼───────────────┤\n",
       "│ conv2d_15 (<span style=\"color: #0087ff; text-decoration-color: #0087ff\">Conv2D</span>)              │ (<span style=\"color: #00d7ff; text-decoration-color: #00d7ff\">None</span>, <span style=\"color: #00af00; text-decoration-color: #00af00\">7</span>, <span style=\"color: #00af00; text-decoration-color: #00af00\">7</span>, <span style=\"color: #00af00; text-decoration-color: #00af00\">12</span>)       │           <span style=\"color: #00af00; text-decoration-color: #00af00\">876</span> │\n",
       "├─────────────────────────────────┼────────────────────────┼───────────────┤\n",
       "│ conv2d_16 (<span style=\"color: #0087ff; text-decoration-color: #0087ff\">Conv2D</span>)              │ (<span style=\"color: #00d7ff; text-decoration-color: #00d7ff\">None</span>, <span style=\"color: #00af00; text-decoration-color: #00af00\">7</span>, <span style=\"color: #00af00; text-decoration-color: #00af00\">7</span>, <span style=\"color: #00af00; text-decoration-color: #00af00\">12</span>)       │         <span style=\"color: #00af00; text-decoration-color: #00af00\">1,308</span> │\n",
       "├─────────────────────────────────┼────────────────────────┼───────────────┤\n",
       "│ max_pooling2d_13 (<span style=\"color: #0087ff; text-decoration-color: #0087ff\">MaxPooling2D</span>) │ (<span style=\"color: #00d7ff; text-decoration-color: #00d7ff\">None</span>, <span style=\"color: #00af00; text-decoration-color: #00af00\">3</span>, <span style=\"color: #00af00; text-decoration-color: #00af00\">3</span>, <span style=\"color: #00af00; text-decoration-color: #00af00\">12</span>)       │             <span style=\"color: #00af00; text-decoration-color: #00af00\">0</span> │\n",
       "├─────────────────────────────────┼────────────────────────┼───────────────┤\n",
       "│ flatten_6 (<span style=\"color: #0087ff; text-decoration-color: #0087ff\">Flatten</span>)             │ (<span style=\"color: #00d7ff; text-decoration-color: #00d7ff\">None</span>, <span style=\"color: #00af00; text-decoration-color: #00af00\">108</span>)            │             <span style=\"color: #00af00; text-decoration-color: #00af00\">0</span> │\n",
       "├─────────────────────────────────┼────────────────────────┼───────────────┤\n",
       "│ dense_12 (<span style=\"color: #0087ff; text-decoration-color: #0087ff\">Dense</span>)                │ (<span style=\"color: #00d7ff; text-decoration-color: #00d7ff\">None</span>, <span style=\"color: #00af00; text-decoration-color: #00af00\">120</span>)            │        <span style=\"color: #00af00; text-decoration-color: #00af00\">13,080</span> │\n",
       "├─────────────────────────────────┼────────────────────────┼───────────────┤\n",
       "│ dense_13 (<span style=\"color: #0087ff; text-decoration-color: #0087ff\">Dense</span>)                │ (<span style=\"color: #00d7ff; text-decoration-color: #00d7ff\">None</span>, <span style=\"color: #00af00; text-decoration-color: #00af00\">1</span>)              │           <span style=\"color: #00af00; text-decoration-color: #00af00\">121</span> │\n",
       "└─────────────────────────────────┴────────────────────────┴───────────────┘\n",
       "</pre>\n"
      ],
      "text/plain": [
       "┏━━━━━━━━━━━━━━━━━━━━━━━━━━━━━━━━━┳━━━━━━━━━━━━━━━━━━━━━━━━┳━━━━━━━━━━━━━━━┓\n",
       "┃\u001b[1m \u001b[0m\u001b[1mLayer (type)                   \u001b[0m\u001b[1m \u001b[0m┃\u001b[1m \u001b[0m\u001b[1mOutput Shape          \u001b[0m\u001b[1m \u001b[0m┃\u001b[1m \u001b[0m\u001b[1m      Param #\u001b[0m\u001b[1m \u001b[0m┃\n",
       "┡━━━━━━━━━━━━━━━━━━━━━━━━━━━━━━━━━╇━━━━━━━━━━━━━━━━━━━━━━━━╇━━━━━━━━━━━━━━━┩\n",
       "│ input_layer_6 (\u001b[38;5;33mInputLayer\u001b[0m)      │ (\u001b[38;5;45mNone\u001b[0m, \u001b[38;5;34m15\u001b[0m, \u001b[38;5;34m15\u001b[0m, \u001b[38;5;34m1\u001b[0m)      │             \u001b[38;5;34m0\u001b[0m │\n",
       "├─────────────────────────────────┼────────────────────────┼───────────────┤\n",
       "│ conv2d_14 (\u001b[38;5;33mConv2D\u001b[0m)              │ (\u001b[38;5;45mNone\u001b[0m, \u001b[38;5;34m15\u001b[0m, \u001b[38;5;34m15\u001b[0m, \u001b[38;5;34m8\u001b[0m)      │            \u001b[38;5;34m80\u001b[0m │\n",
       "├─────────────────────────────────┼────────────────────────┼───────────────┤\n",
       "│ max_pooling2d_12 (\u001b[38;5;33mMaxPooling2D\u001b[0m) │ (\u001b[38;5;45mNone\u001b[0m, \u001b[38;5;34m7\u001b[0m, \u001b[38;5;34m7\u001b[0m, \u001b[38;5;34m8\u001b[0m)        │             \u001b[38;5;34m0\u001b[0m │\n",
       "├─────────────────────────────────┼────────────────────────┼───────────────┤\n",
       "│ conv2d_15 (\u001b[38;5;33mConv2D\u001b[0m)              │ (\u001b[38;5;45mNone\u001b[0m, \u001b[38;5;34m7\u001b[0m, \u001b[38;5;34m7\u001b[0m, \u001b[38;5;34m12\u001b[0m)       │           \u001b[38;5;34m876\u001b[0m │\n",
       "├─────────────────────────────────┼────────────────────────┼───────────────┤\n",
       "│ conv2d_16 (\u001b[38;5;33mConv2D\u001b[0m)              │ (\u001b[38;5;45mNone\u001b[0m, \u001b[38;5;34m7\u001b[0m, \u001b[38;5;34m7\u001b[0m, \u001b[38;5;34m12\u001b[0m)       │         \u001b[38;5;34m1,308\u001b[0m │\n",
       "├─────────────────────────────────┼────────────────────────┼───────────────┤\n",
       "│ max_pooling2d_13 (\u001b[38;5;33mMaxPooling2D\u001b[0m) │ (\u001b[38;5;45mNone\u001b[0m, \u001b[38;5;34m3\u001b[0m, \u001b[38;5;34m3\u001b[0m, \u001b[38;5;34m12\u001b[0m)       │             \u001b[38;5;34m0\u001b[0m │\n",
       "├─────────────────────────────────┼────────────────────────┼───────────────┤\n",
       "│ flatten_6 (\u001b[38;5;33mFlatten\u001b[0m)             │ (\u001b[38;5;45mNone\u001b[0m, \u001b[38;5;34m108\u001b[0m)            │             \u001b[38;5;34m0\u001b[0m │\n",
       "├─────────────────────────────────┼────────────────────────┼───────────────┤\n",
       "│ dense_12 (\u001b[38;5;33mDense\u001b[0m)                │ (\u001b[38;5;45mNone\u001b[0m, \u001b[38;5;34m120\u001b[0m)            │        \u001b[38;5;34m13,080\u001b[0m │\n",
       "├─────────────────────────────────┼────────────────────────┼───────────────┤\n",
       "│ dense_13 (\u001b[38;5;33mDense\u001b[0m)                │ (\u001b[38;5;45mNone\u001b[0m, \u001b[38;5;34m1\u001b[0m)              │           \u001b[38;5;34m121\u001b[0m │\n",
       "└─────────────────────────────────┴────────────────────────┴───────────────┘\n"
      ]
     },
     "metadata": {},
     "output_type": "display_data"
    },
    {
     "data": {
      "text/html": [
       "<pre style=\"white-space:pre;overflow-x:auto;line-height:normal;font-family:Menlo,'DejaVu Sans Mono',consolas,'Courier New',monospace\"><span style=\"font-weight: bold\"> Total params: </span><span style=\"color: #00af00; text-decoration-color: #00af00\">15,465</span> (60.41 KB)\n",
       "</pre>\n"
      ],
      "text/plain": [
       "\u001b[1m Total params: \u001b[0m\u001b[38;5;34m15,465\u001b[0m (60.41 KB)\n"
      ]
     },
     "metadata": {},
     "output_type": "display_data"
    },
    {
     "data": {
      "text/html": [
       "<pre style=\"white-space:pre;overflow-x:auto;line-height:normal;font-family:Menlo,'DejaVu Sans Mono',consolas,'Courier New',monospace\"><span style=\"font-weight: bold\"> Trainable params: </span><span style=\"color: #00af00; text-decoration-color: #00af00\">15,465</span> (60.41 KB)\n",
       "</pre>\n"
      ],
      "text/plain": [
       "\u001b[1m Trainable params: \u001b[0m\u001b[38;5;34m15,465\u001b[0m (60.41 KB)\n"
      ]
     },
     "metadata": {},
     "output_type": "display_data"
    },
    {
     "data": {
      "text/html": [
       "<pre style=\"white-space:pre;overflow-x:auto;line-height:normal;font-family:Menlo,'DejaVu Sans Mono',consolas,'Courier New',monospace\"><span style=\"font-weight: bold\"> Non-trainable params: </span><span style=\"color: #00af00; text-decoration-color: #00af00\">0</span> (0.00 B)\n",
       "</pre>\n"
      ],
      "text/plain": [
       "\u001b[1m Non-trainable params: \u001b[0m\u001b[38;5;34m0\u001b[0m (0.00 B)\n"
      ]
     },
     "metadata": {},
     "output_type": "display_data"
    }
   ],
   "source": [
    "inp = Input(shape=(15, 15, 1))\n",
    "\n",
    "x = Conv2D(8, (3, 3), activation='relu', padding=\"same\")(inp)\n",
    "x = Conv2D(8, (3, 3), activation='relu', padding=\"same\")(inp)\n",
    "x = MaxPooling2D((2, 2))(x)\n",
    "\n",
    "x = Conv2D(12, (3, 3), activation='relu', padding=\"same\")(x)\n",
    "x = Conv2D(12, (3, 3), activation='relu', padding=\"same\")(x)\n",
    "x = MaxPooling2D((2, 2))(x)\n",
    "\n",
    "x = Flatten()(x)\n",
    "x = Dense(120, activation='relu')(x)\n",
    "\n",
    "output = Dense(1, activation=\"linear\")(x)\n",
    "model = Model(inputs=inp, outputs=output)\n",
    "model.summary()"
   ]
  },
  {
   "cell_type": "code",
   "execution_count": 17,
   "metadata": {},
   "outputs": [],
   "source": [
    "model.compile(optimizer=Adam(0.001), loss=MeanSquaredError(), metrics=['mae'])"
   ]
  },
  {
   "cell_type": "code",
   "execution_count": 18,
   "metadata": {},
   "outputs": [
    {
     "name": "stdout",
     "output_type": "stream",
     "text": [
      "Epoch 1/60\n",
      "\u001b[1m6215/6215\u001b[0m \u001b[32m━━━━━━━━━━━━━━━━━━━━\u001b[0m\u001b[37m\u001b[0m \u001b[1m13s\u001b[0m 2ms/step - loss: 0.1533 - mae: 0.2887 - val_loss: 0.0514 - val_mae: 0.1519\n",
      "Epoch 2/60\n",
      "\u001b[1m6215/6215\u001b[0m \u001b[32m━━━━━━━━━━━━━━━━━━━━\u001b[0m\u001b[37m\u001b[0m \u001b[1m11s\u001b[0m 2ms/step - loss: 0.0612 - mae: 0.1717 - val_loss: 0.0443 - val_mae: 0.1380\n",
      "Epoch 3/60\n",
      "\u001b[1m6215/6215\u001b[0m \u001b[32m━━━━━━━━━━━━━━━━━━━━\u001b[0m\u001b[37m\u001b[0m \u001b[1m11s\u001b[0m 2ms/step - loss: 0.0519 - mae: 0.1567 - val_loss: 0.0361 - val_mae: 0.1234\n",
      "Epoch 4/60\n",
      "\u001b[1m6215/6215\u001b[0m \u001b[32m━━━━━━━━━━━━━━━━━━━━\u001b[0m\u001b[37m\u001b[0m \u001b[1m11s\u001b[0m 2ms/step - loss: 0.0475 - mae: 0.1492 - val_loss: 0.0327 - val_mae: 0.1181\n",
      "Epoch 5/60\n",
      "\u001b[1m6215/6215\u001b[0m \u001b[32m━━━━━━━━━━━━━━━━━━━━\u001b[0m\u001b[37m\u001b[0m \u001b[1m12s\u001b[0m 2ms/step - loss: 0.0445 - mae: 0.1444 - val_loss: 0.0302 - val_mae: 0.1119\n",
      "Epoch 6/60\n",
      "\u001b[1m6215/6215\u001b[0m \u001b[32m━━━━━━━━━━━━━━━━━━━━\u001b[0m\u001b[37m\u001b[0m \u001b[1m12s\u001b[0m 2ms/step - loss: 0.0428 - mae: 0.1412 - val_loss: 0.0285 - val_mae: 0.1080\n",
      "Epoch 7/60\n",
      "\u001b[1m6215/6215\u001b[0m \u001b[32m━━━━━━━━━━━━━━━━━━━━\u001b[0m\u001b[37m\u001b[0m \u001b[1m12s\u001b[0m 2ms/step - loss: 0.0421 - mae: 0.1394 - val_loss: 0.0287 - val_mae: 0.1092\n",
      "Epoch 8/60\n",
      "\u001b[1m6215/6215\u001b[0m \u001b[32m━━━━━━━━━━━━━━━━━━━━\u001b[0m\u001b[37m\u001b[0m \u001b[1m11s\u001b[0m 2ms/step - loss: 0.0406 - mae: 0.1370 - val_loss: 0.0263 - val_mae: 0.1024\n",
      "Epoch 9/60\n",
      "\u001b[1m6215/6215\u001b[0m \u001b[32m━━━━━━━━━━━━━━━━━━━━\u001b[0m\u001b[37m\u001b[0m \u001b[1m11s\u001b[0m 2ms/step - loss: 0.0404 - mae: 0.1360 - val_loss: 0.0266 - val_mae: 0.1040\n",
      "Epoch 10/60\n",
      "\u001b[1m6215/6215\u001b[0m \u001b[32m━━━━━━━━━━━━━━━━━━━━\u001b[0m\u001b[37m\u001b[0m \u001b[1m12s\u001b[0m 2ms/step - loss: 0.0393 - mae: 0.1348 - val_loss: 0.0278 - val_mae: 0.1065\n",
      "Epoch 11/60\n",
      "\u001b[1m6215/6215\u001b[0m \u001b[32m━━━━━━━━━━━━━━━━━━━━\u001b[0m\u001b[37m\u001b[0m \u001b[1m12s\u001b[0m 2ms/step - loss: 0.0388 - mae: 0.1337 - val_loss: 0.0248 - val_mae: 0.1010\n",
      "Epoch 12/60\n",
      "\u001b[1m6215/6215\u001b[0m \u001b[32m━━━━━━━━━━━━━━━━━━━━\u001b[0m\u001b[37m\u001b[0m \u001b[1m11s\u001b[0m 2ms/step - loss: 0.0379 - mae: 0.1322 - val_loss: 0.0249 - val_mae: 0.1019\n",
      "Epoch 13/60\n",
      "\u001b[1m6215/6215\u001b[0m \u001b[32m━━━━━━━━━━━━━━━━━━━━\u001b[0m\u001b[37m\u001b[0m \u001b[1m11s\u001b[0m 2ms/step - loss: 0.0377 - mae: 0.1318 - val_loss: 0.0247 - val_mae: 0.0993\n",
      "Epoch 14/60\n",
      "\u001b[1m6215/6215\u001b[0m \u001b[32m━━━━━━━━━━━━━━━━━━━━\u001b[0m\u001b[37m\u001b[0m \u001b[1m11s\u001b[0m 2ms/step - loss: 0.0367 - mae: 0.1296 - val_loss: 0.0275 - val_mae: 0.1079\n",
      "Epoch 15/60\n",
      "\u001b[1m6215/6215\u001b[0m \u001b[32m━━━━━━━━━━━━━━━━━━━━\u001b[0m\u001b[37m\u001b[0m \u001b[1m11s\u001b[0m 2ms/step - loss: 0.0363 - mae: 0.1291 - val_loss: 0.0285 - val_mae: 0.1098\n",
      "Epoch 16/60\n",
      "\u001b[1m6215/6215\u001b[0m \u001b[32m━━━━━━━━━━━━━━━━━━━━\u001b[0m\u001b[37m\u001b[0m \u001b[1m11s\u001b[0m 2ms/step - loss: 0.0358 - mae: 0.1282 - val_loss: 0.0235 - val_mae: 0.0972\n",
      "Epoch 17/60\n",
      "\u001b[1m6215/6215\u001b[0m \u001b[32m━━━━━━━━━━━━━━━━━━━━\u001b[0m\u001b[37m\u001b[0m \u001b[1m11s\u001b[0m 2ms/step - loss: 0.0358 - mae: 0.1280 - val_loss: 0.0224 - val_mae: 0.0926\n",
      "Epoch 18/60\n",
      "\u001b[1m6215/6215\u001b[0m \u001b[32m━━━━━━━━━━━━━━━━━━━━\u001b[0m\u001b[37m\u001b[0m \u001b[1m11s\u001b[0m 2ms/step - loss: 0.0352 - mae: 0.1272 - val_loss: 0.0249 - val_mae: 0.0999\n",
      "Epoch 19/60\n",
      "\u001b[1m6215/6215\u001b[0m \u001b[32m━━━━━━━━━━━━━━━━━━━━\u001b[0m\u001b[37m\u001b[0m \u001b[1m11s\u001b[0m 2ms/step - loss: 0.0354 - mae: 0.1275 - val_loss: 0.0231 - val_mae: 0.0976\n",
      "Epoch 20/60\n",
      "\u001b[1m6215/6215\u001b[0m \u001b[32m━━━━━━━━━━━━━━━━━━━━\u001b[0m\u001b[37m\u001b[0m \u001b[1m10s\u001b[0m 2ms/step - loss: 0.0353 - mae: 0.1274 - val_loss: 0.0226 - val_mae: 0.0960\n",
      "Epoch 21/60\n",
      "\u001b[1m6215/6215\u001b[0m \u001b[32m━━━━━━━━━━━━━━━━━━━━\u001b[0m\u001b[37m\u001b[0m \u001b[1m11s\u001b[0m 2ms/step - loss: 0.0348 - mae: 0.1268 - val_loss: 0.0210 - val_mae: 0.0926\n",
      "Epoch 22/60\n",
      "\u001b[1m6215/6215\u001b[0m \u001b[32m━━━━━━━━━━━━━━━━━━━━\u001b[0m\u001b[37m\u001b[0m \u001b[1m11s\u001b[0m 2ms/step - loss: 0.0346 - mae: 0.1262 - val_loss: 0.0223 - val_mae: 0.0942\n",
      "Epoch 23/60\n",
      "\u001b[1m6215/6215\u001b[0m \u001b[32m━━━━━━━━━━━━━━━━━━━━\u001b[0m\u001b[37m\u001b[0m \u001b[1m11s\u001b[0m 2ms/step - loss: 0.0347 - mae: 0.1266 - val_loss: 0.0222 - val_mae: 0.0956\n",
      "Epoch 24/60\n",
      "\u001b[1m6215/6215\u001b[0m \u001b[32m━━━━━━━━━━━━━━━━━━━━\u001b[0m\u001b[37m\u001b[0m \u001b[1m11s\u001b[0m 2ms/step - loss: 0.0341 - mae: 0.1252 - val_loss: 0.0344 - val_mae: 0.1247\n",
      "Epoch 25/60\n",
      "\u001b[1m6215/6215\u001b[0m \u001b[32m━━━━━━━━━━━━━━━━━━━━\u001b[0m\u001b[37m\u001b[0m \u001b[1m11s\u001b[0m 2ms/step - loss: 0.0342 - mae: 0.1251 - val_loss: 0.0236 - val_mae: 0.0996\n",
      "Epoch 26/60\n",
      "\u001b[1m6215/6215\u001b[0m \u001b[32m━━━━━━━━━━━━━━━━━━━━\u001b[0m\u001b[37m\u001b[0m \u001b[1m11s\u001b[0m 2ms/step - loss: 0.0343 - mae: 0.1257 - val_loss: 0.0220 - val_mae: 0.0943\n",
      "Epoch 27/60\n",
      "\u001b[1m6215/6215\u001b[0m \u001b[32m━━━━━━━━━━━━━━━━━━━━\u001b[0m\u001b[37m\u001b[0m \u001b[1m11s\u001b[0m 2ms/step - loss: 0.0342 - mae: 0.1255 - val_loss: 0.0206 - val_mae: 0.0897\n",
      "Epoch 28/60\n",
      "\u001b[1m6215/6215\u001b[0m \u001b[32m━━━━━━━━━━━━━━━━━━━━\u001b[0m\u001b[37m\u001b[0m \u001b[1m11s\u001b[0m 2ms/step - loss: 0.0338 - mae: 0.1244 - val_loss: 0.0269 - val_mae: 0.1061\n",
      "Epoch 29/60\n",
      "\u001b[1m6215/6215\u001b[0m \u001b[32m━━━━━━━━━━━━━━━━━━━━\u001b[0m\u001b[37m\u001b[0m \u001b[1m11s\u001b[0m 2ms/step - loss: 0.0334 - mae: 0.1238 - val_loss: 0.0206 - val_mae: 0.0930\n",
      "Epoch 30/60\n",
      "\u001b[1m6215/6215\u001b[0m \u001b[32m━━━━━━━━━━━━━━━━━━━━\u001b[0m\u001b[37m\u001b[0m \u001b[1m10s\u001b[0m 2ms/step - loss: 0.0342 - mae: 0.1254 - val_loss: 0.0234 - val_mae: 0.0988\n",
      "Epoch 31/60\n",
      "\u001b[1m6215/6215\u001b[0m \u001b[32m━━━━━━━━━━━━━━━━━━━━\u001b[0m\u001b[37m\u001b[0m \u001b[1m11s\u001b[0m 2ms/step - loss: 0.0335 - mae: 0.1239 - val_loss: 0.0206 - val_mae: 0.0912\n",
      "Epoch 32/60\n",
      "\u001b[1m6215/6215\u001b[0m \u001b[32m━━━━━━━━━━━━━━━━━━━━\u001b[0m\u001b[37m\u001b[0m \u001b[1m11s\u001b[0m 2ms/step - loss: 0.0332 - mae: 0.1235 - val_loss: 0.0218 - val_mae: 0.0949\n",
      "Epoch 33/60\n",
      "\u001b[1m6215/6215\u001b[0m \u001b[32m━━━━━━━━━━━━━━━━━━━━\u001b[0m\u001b[37m\u001b[0m \u001b[1m21s\u001b[0m 2ms/step - loss: 0.0331 - mae: 0.1234 - val_loss: 0.0202 - val_mae: 0.0906\n",
      "Epoch 34/60\n",
      "\u001b[1m6215/6215\u001b[0m \u001b[32m━━━━━━━━━━━━━━━━━━━━\u001b[0m\u001b[37m\u001b[0m \u001b[1m11s\u001b[0m 2ms/step - loss: 0.0334 - mae: 0.1242 - val_loss: 0.0204 - val_mae: 0.0932\n",
      "Epoch 35/60\n",
      "\u001b[1m6215/6215\u001b[0m \u001b[32m━━━━━━━━━━━━━━━━━━━━\u001b[0m\u001b[37m\u001b[0m \u001b[1m11s\u001b[0m 2ms/step - loss: 0.0328 - mae: 0.1229 - val_loss: 0.0218 - val_mae: 0.0940\n",
      "Epoch 36/60\n",
      "\u001b[1m6215/6215\u001b[0m \u001b[32m━━━━━━━━━━━━━━━━━━━━\u001b[0m\u001b[37m\u001b[0m \u001b[1m11s\u001b[0m 2ms/step - loss: 0.0327 - mae: 0.1226 - val_loss: 0.0202 - val_mae: 0.0909\n",
      "Epoch 37/60\n",
      "\u001b[1m6215/6215\u001b[0m \u001b[32m━━━━━━━━━━━━━━━━━━━━\u001b[0m\u001b[37m\u001b[0m \u001b[1m11s\u001b[0m 2ms/step - loss: 0.0325 - mae: 0.1223 - val_loss: 0.0222 - val_mae: 0.0983\n",
      "Epoch 38/60\n",
      "\u001b[1m6215/6215\u001b[0m \u001b[32m━━━━━━━━━━━━━━━━━━━━\u001b[0m\u001b[37m\u001b[0m \u001b[1m11s\u001b[0m 2ms/step - loss: 0.0328 - mae: 0.1229 - val_loss: 0.0203 - val_mae: 0.0913\n",
      "Epoch 39/60\n",
      "\u001b[1m6215/6215\u001b[0m \u001b[32m━━━━━━━━━━━━━━━━━━━━\u001b[0m\u001b[37m\u001b[0m \u001b[1m11s\u001b[0m 2ms/step - loss: 0.0328 - mae: 0.1225 - val_loss: 0.0243 - val_mae: 0.0983\n"
     ]
    }
   ],
   "source": [
    "early_stop = EarlyStopping(monitor='val_loss', patience=6, restore_best_weights=True)\n",
    "\n",
    "hst = model.fit(X_train, y_train, epochs=60, validation_data=(X_test, y_test), callbacks=[early_stop])"
   ]
  },
  {
   "cell_type": "code",
   "execution_count": 19,
   "metadata": {},
   "outputs": [
    {
     "data": {
      "image/png": "[encoded data removed]",
      "text/plain": [
       "<Figure size 1200x400 with 2 Axes>"
      ]
     },
     "metadata": {},
     "output_type": "display_data"
    }
   ],
   "source": [
    "# Plot training & validation loss values\n",
    "plt.figure(figsize=(12, 4))\n",
    "\n",
    "# Loss\n",
    "plt.subplot(1, 2, 1)\n",
    "plt.plot(hst.history['loss'], label='Train Loss')\n",
    "plt.plot(hst.history['val_loss'], label='Validation Loss')\n",
    "plt.title('Model Loss')\n",
    "plt.xlabel('Epoch')\n",
    "plt.ylabel('Loss')\n",
    "plt.legend(loc='upper right')\n",
    "\n",
    "# Metric (Mean Absolute Error in this case)\n",
    "plt.subplot(1, 2, 2)\n",
    "plt.plot(hst.history['mae'], label='Train MAE')\n",
    "plt.plot(hst.history['val_mae'], label='Validation MAE')\n",
    "plt.title('Model Mean Absolute Error')\n",
    "plt.xlabel('Epoch')\n",
    "plt.ylabel('MAE')\n",
    "plt.legend(loc='upper right')\n",
    "\n",
    "plt.show()\n"
   ]
  },
  {
   "cell_type": "code",
   "execution_count": 20,
   "metadata": {},
   "outputs": [
    {
     "name": "stdout",
     "output_type": "stream",
     "text": [
      "\u001b[1m1554/1554\u001b[0m \u001b[32m━━━━━━━━━━━━━━━━━━━━\u001b[0m\u001b[37m\u001b[0m \u001b[1m1s\u001b[0m 846us/step\n"
     ]
    }
   ],
   "source": [
    "preds = model.predict(X_test)"
   ]
  },
  {
   "cell_type": "code",
   "execution_count": 21,
   "metadata": {},
   "outputs": [
    {
     "name": "stdout",
     "output_type": "stream",
     "text": [
      "\u001b[1m1554/1554\u001b[0m \u001b[32m━━━━━━━━━━━━━━━━━━━━\u001b[0m\u001b[37m\u001b[0m \u001b[1m1s\u001b[0m 819us/step - loss: 0.0203 - mae: 0.0905\n",
      "Test Loss: [0.020210158079862595, 0.09064751863479614]\n"
     ]
    }
   ],
   "source": [
    "test_loss = model.evaluate(X_test, y_test)\n",
    "print(f'Test Loss: {test_loss}')"
   ]
  },
  {
   "cell_type": "code",
   "execution_count": 22,
   "metadata": {},
   "outputs": [
    {
     "data": {
      "image/png": "[encoded data removed]",
      "text/plain": [
       "<Figure size 640x480 with 1 Axes>"
      ]
     },
     "metadata": {},
     "output_type": "display_data"
    }
   ],
   "source": [
    "n = 150\n",
    "index = range(n)\n",
    "plt.scatter(index, y_test[:n])\n",
    "plt.scatter(index, preds[:n])\n",
    "plt.show()"
   ]
  },
  {
   "cell_type": "code",
   "execution_count": 34,
   "metadata": {},
   "outputs": [],
   "source": [
    "model.save('gomoku-goated.keras')"
   ]
  },
  {
   "cell_type": "code",
   "execution_count": 26,
   "metadata": {},
   "outputs": [
    {
     "data": {
      "text/plain": [
       "array([[-1.0022930e+00],\n",
       "       [ 6.6766061e-04],\n",
       "       [ 9.9853474e-01],\n",
       "       ...,\n",
       "       [-1.0016495e+00],\n",
       "       [-1.0023925e+00],\n",
       "       [ 6.6766061e-04]], dtype=float32)"
      ]
     },
     "execution_count": 26,
     "metadata": {},
     "output_type": "execute_result"
    }
   ],
   "source": [
    "preds"
   ]
  }
 ],
 "metadata": {
  "kernelspec": {
   "display_name": "Python 3",
   "language": "python",
   "name": "python3"
  },
  "language_info": {
   "codemirror_mode": {
    "name": "ipython",
    "version": 3
   },
   "file_extension": ".py",
   "mimetype": "text/x-python",
   "name": "python",
   "nbconvert_exporter": "python",
   "pygments_lexer": "ipython3",
   "version": "3.10.11"
  }
 },
 "nbformat": 4,
 "nbformat_minor": 2
}
