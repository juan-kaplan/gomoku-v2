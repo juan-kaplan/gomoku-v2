{
 "cells": [
  {
   "cell_type": "code",
   "execution_count": 4,
   "metadata": {},
   "outputs": [],
   "source": [
    "import numpy as np\n",
    "from sklearn.model_selection import train_test_split\n",
    "import matplotlib.pyplot as plt\n",
    "import tensorflow as tf\n",
    "from tensorflow.keras.layers import Input, Dense, Flatten, Conv2D, MaxPooling2D, Dropout\n",
    "from tensorflow.keras.optimizers import Adam\n",
    "from tensorflow.keras.models import Model\n",
    "from tensorflow.keras.callbacks import EarlyStopping\n",
    "from tensorflow.keras.losses import MeanSquaredError\n",
    "from sklearn.preprocessing import MinMaxScaler, StandardScaler\n",
    "import random\n",
    "import os"
   ]
  },
  {
   "cell_type": "code",
   "execution_count": 3,
   "metadata": {},
   "outputs": [
    {
     "name": "stdout",
     "output_type": "stream",
     "text": [
      "board_384417\n",
      "248596\n",
      "Loaded 1000 matrices\n",
      "Loaded 2000 matrices\n",
      "Loaded 3000 matrices\n",
      "Loaded 4000 matrices\n",
      "Loaded 5000 matrices\n",
      "Loaded 6000 matrices\n",
      "Loaded 7000 matrices\n",
      "Loaded 8000 matrices\n",
      "Loaded 9000 matrices\n",
      "Loaded 10000 matrices\n",
      "Loaded 11000 matrices\n",
      "Loaded 12000 matrices\n",
      "Loaded 13000 matrices\n",
      "Loaded 14000 matrices\n",
      "Loaded 15000 matrices\n",
      "Loaded 16000 matrices\n",
      "Loaded 17000 matrices\n",
      "Loaded 18000 matrices\n",
      "Loaded 19000 matrices\n",
      "Loaded 20000 matrices\n",
      "Loaded 21000 matrices\n",
      "Loaded 22000 matrices\n",
      "Loaded 23000 matrices\n",
      "Loaded 24000 matrices\n",
      "Loaded 25000 matrices\n",
      "Loaded 26000 matrices\n",
      "Loaded 27000 matrices\n",
      "Loaded 28000 matrices\n",
      "Loaded 29000 matrices\n",
      "Loaded 30000 matrices\n",
      "Loaded 31000 matrices\n",
      "Loaded 32000 matrices\n",
      "Loaded 33000 matrices\n",
      "Loaded 34000 matrices\n",
      "Loaded 35000 matrices\n",
      "Loaded 36000 matrices\n",
      "Loaded 37000 matrices\n",
      "Loaded 38000 matrices\n",
      "Loaded 39000 matrices\n",
      "Loaded 40000 matrices\n",
      "Loaded 41000 matrices\n",
      "Loaded 42000 matrices\n",
      "Loaded 43000 matrices\n",
      "Loaded 44000 matrices\n",
      "Loaded 45000 matrices\n",
      "Loaded 46000 matrices\n",
      "Loaded 47000 matrices\n",
      "Loaded 48000 matrices\n",
      "Loaded 49000 matrices\n",
      "Loaded 50000 matrices\n",
      "Loaded 51000 matrices\n",
      "Loaded 52000 matrices\n",
      "Loaded 53000 matrices\n",
      "Loaded 54000 matrices\n",
      "Loaded 55000 matrices\n",
      "Loaded 56000 matrices\n",
      "Loaded 57000 matrices\n",
      "Loaded 58000 matrices\n",
      "Loaded 59000 matrices\n",
      "Loaded 60000 matrices\n",
      "Loaded 61000 matrices\n",
      "Loaded 62000 matrices\n",
      "Loaded 63000 matrices\n",
      "Loaded 64000 matrices\n",
      "Loaded 65000 matrices\n",
      "Loaded 66000 matrices\n",
      "Loaded 67000 matrices\n",
      "Loaded 68000 matrices\n",
      "Loaded 69000 matrices\n",
      "Loaded 70000 matrices\n",
      "Loaded 71000 matrices\n",
      "Loaded 72000 matrices\n",
      "Loaded 73000 matrices\n",
      "Loaded 74000 matrices\n",
      "Loaded 75000 matrices\n",
      "Loaded 76000 matrices\n",
      "Loaded 77000 matrices\n",
      "Loaded 78000 matrices\n",
      "Loaded 79000 matrices\n",
      "Loaded 80000 matrices\n",
      "Loaded 81000 matrices\n",
      "Loaded 82000 matrices\n",
      "Loaded 83000 matrices\n",
      "Loaded 84000 matrices\n",
      "Loaded 85000 matrices\n",
      "Loaded 86000 matrices\n",
      "Loaded 87000 matrices\n",
      "Loaded 88000 matrices\n",
      "Loaded 89000 matrices\n",
      "Loaded 90000 matrices\n",
      "Loaded 91000 matrices\n",
      "Loaded 92000 matrices\n",
      "Loaded 93000 matrices\n",
      "Loaded 94000 matrices\n",
      "Loaded 95000 matrices\n",
      "Loaded 96000 matrices\n",
      "Loaded 97000 matrices\n",
      "Loaded 98000 matrices\n",
      "Loaded 99000 matrices\n",
      "Loaded 100000 matrices\n",
      "Loaded 101000 matrices\n",
      "Loaded 102000 matrices\n",
      "Loaded 103000 matrices\n",
      "Loaded 104000 matrices\n",
      "Loaded 105000 matrices\n",
      "Loaded 106000 matrices\n",
      "Loaded 107000 matrices\n",
      "Loaded 108000 matrices\n",
      "Loaded 109000 matrices\n",
      "Loaded 110000 matrices\n",
      "Loaded 111000 matrices\n",
      "Loaded 112000 matrices\n",
      "Loaded 113000 matrices\n",
      "Loaded 114000 matrices\n",
      "Loaded 115000 matrices\n",
      "Loaded 116000 matrices\n",
      "Loaded 117000 matrices\n",
      "Loaded 118000 matrices\n",
      "Loaded 119000 matrices\n",
      "Loaded 120000 matrices\n",
      "Loaded 121000 matrices\n",
      "Loaded 122000 matrices\n",
      "Loaded 123000 matrices\n",
      "Loaded 124000 matrices\n",
      "Loaded 125000 matrices\n",
      "Loaded 126000 matrices\n",
      "Loaded 127000 matrices\n",
      "Loaded 128000 matrices\n",
      "Loaded 129000 matrices\n",
      "Loaded 130000 matrices\n",
      "Loaded 131000 matrices\n",
      "Loaded 132000 matrices\n",
      "Loaded 133000 matrices\n",
      "Loaded 134000 matrices\n",
      "Loaded 135000 matrices\n",
      "Loaded 136000 matrices\n",
      "Loaded 137000 matrices\n",
      "Loaded 138000 matrices\n",
      "Loaded 139000 matrices\n",
      "Loaded 140000 matrices\n",
      "Loaded 141000 matrices\n",
      "Loaded 142000 matrices\n",
      "Loaded 143000 matrices\n",
      "Loaded 144000 matrices\n",
      "Loaded 145000 matrices\n",
      "Loaded 146000 matrices\n",
      "Loaded 147000 matrices\n",
      "Loaded 148000 matrices\n",
      "Loaded 149000 matrices\n",
      "Loaded 150000 matrices\n",
      "Loaded 151000 matrices\n",
      "Loaded 152000 matrices\n",
      "Loaded 153000 matrices\n",
      "Loaded 154000 matrices\n",
      "Loaded 155000 matrices\n",
      "Loaded 156000 matrices\n",
      "Loaded 157000 matrices\n",
      "Loaded 158000 matrices\n",
      "Loaded 159000 matrices\n",
      "Loaded 160000 matrices\n",
      "Loaded 161000 matrices\n",
      "Loaded 162000 matrices\n",
      "Loaded 163000 matrices\n",
      "Loaded 164000 matrices\n",
      "Loaded 165000 matrices\n",
      "Loaded 166000 matrices\n",
      "Loaded 167000 matrices\n",
      "Loaded 168000 matrices\n",
      "Loaded 169000 matrices\n",
      "Loaded 170000 matrices\n",
      "Loaded 171000 matrices\n",
      "Loaded 172000 matrices\n",
      "Loaded 173000 matrices\n",
      "Loaded 174000 matrices\n",
      "Loaded 175000 matrices\n",
      "Loaded 176000 matrices\n",
      "Loaded 177000 matrices\n",
      "Loaded 178000 matrices\n",
      "Loaded 179000 matrices\n",
      "Loaded 180000 matrices\n",
      "Loaded 181000 matrices\n",
      "Loaded 182000 matrices\n",
      "Loaded 183000 matrices\n",
      "Loaded 184000 matrices\n",
      "Loaded 185000 matrices\n",
      "Loaded 186000 matrices\n",
      "Loaded 187000 matrices\n",
      "Loaded 188000 matrices\n",
      "Loaded 189000 matrices\n",
      "Loaded 190000 matrices\n",
      "Loaded 191000 matrices\n",
      "Loaded 192000 matrices\n",
      "Loaded 193000 matrices\n",
      "Loaded 194000 matrices\n",
      "Loaded 195000 matrices\n",
      "Loaded 196000 matrices\n",
      "Loaded 197000 matrices\n",
      "Loaded 198000 matrices\n",
      "Loaded 199000 matrices\n",
      "Loaded 200000 matrices\n",
      "Loaded 201000 matrices\n",
      "Loaded 202000 matrices\n",
      "Loaded 203000 matrices\n",
      "Loaded 204000 matrices\n",
      "Loaded 205000 matrices\n",
      "Loaded 206000 matrices\n",
      "Loaded 207000 matrices\n",
      "Loaded 208000 matrices\n",
      "Loaded 209000 matrices\n",
      "Loaded 210000 matrices\n",
      "Loaded 211000 matrices\n",
      "Loaded 212000 matrices\n",
      "Loaded 213000 matrices\n",
      "Loaded 214000 matrices\n",
      "Loaded 215000 matrices\n",
      "Loaded 216000 matrices\n",
      "Loaded 217000 matrices\n",
      "Loaded 218000 matrices\n",
      "Loaded 219000 matrices\n",
      "Loaded 220000 matrices\n",
      "Loaded 221000 matrices\n",
      "Loaded 222000 matrices\n",
      "Loaded 223000 matrices\n",
      "Loaded 224000 matrices\n",
      "Loaded 225000 matrices\n",
      "Loaded 226000 matrices\n",
      "Loaded 227000 matrices\n",
      "Loaded 228000 matrices\n",
      "Loaded 229000 matrices\n",
      "Loaded 230000 matrices\n",
      "Loaded 231000 matrices\n",
      "Loaded 232000 matrices\n",
      "Loaded 233000 matrices\n",
      "Loaded 234000 matrices\n",
      "Loaded 235000 matrices\n",
      "Loaded 236000 matrices\n",
      "Loaded 237000 matrices\n",
      "Loaded 238000 matrices\n",
      "Loaded 239000 matrices\n",
      "Loaded 240000 matrices\n",
      "Loaded 241000 matrices\n",
      "Loaded 242000 matrices\n",
      "Loaded 243000 matrices\n",
      "Loaded 244000 matrices\n",
      "Loaded 245000 matrices\n",
      "Loaded 246000 matrices\n",
      "Loaded 247000 matrices\n",
      "Loaded 248000 matrices\n",
      "Shape of stacked boards array: (248596, 15, 15)\n"
     ]
    }
   ],
   "source": [
    "# Path to the .npz file\n",
    "npz_file_path = 'boards.npz'\n",
    "\n",
    "# Load the .npz file\n",
    "data = np.load(npz_file_path)\n",
    "\n",
    "# Get the list of keys (which correspond to the original .npy file names without the extension)\n",
    "keys = list(data.keys())\n",
    "\n",
    "# Load the first matrix to determine its shape\n",
    "first_matrix = data[keys[0]]\n",
    "matrix_shape = first_matrix.shape\n",
    "print(keys[0])\n",
    "print(len(keys))\n",
    "\n",
    "# Pre-allocate the array to hold all matrices\n",
    "num_matrices = len(keys)\n",
    "boards = np.empty((num_matrices, *matrix_shape), dtype=first_matrix.dtype)\n",
    "\n",
    "# Load each matrix into the pre-allocated array\n",
    "for i, key in enumerate(keys):\n",
    "    boards[i] = data[key]\n",
    "    if (i + 1) % 1000 == 0:\n",
    "        print(f'Loaded {i + 1} matrices')\n",
    "\n",
    "# Optional: Print the shape of the resulting array for verification\n",
    "print(\"Shape of stacked boards array:\", boards.shape)"
   ]
  },
  {
   "cell_type": "code",
   "execution_count": 5,
   "metadata": {},
   "outputs": [
    {
     "data": {
      "text/plain": [
       "array([-1.00000e+09, -7.70200e+02, -1.00000e+09, ..., -1.00000e+09,\n",
       "        1.04506e+04, -1.00000e+09])"
      ]
     },
     "execution_count": 5,
     "metadata": {},
     "output_type": "execute_result"
    }
   ],
   "source": [
    "with open(\"results.txt\",  \"r\") as f:\n",
    "    ratings = f.readlines()\n",
    "\n",
    "ratings = [float(rating.strip()) for rating in ratings]\n",
    "ratings = np.array(ratings)\n",
    "ratings"
   ]
  },
  {
   "cell_type": "code",
   "execution_count": 6,
   "metadata": {},
   "outputs": [
    {
     "name": "stdout",
     "output_type": "stream",
     "text": [
      "(248596, 15, 15)\n",
      "(248596,)\n"
     ]
    },
    {
     "data": {
      "image/png": "[encoded data removed]",
      "text/plain": [
       "<Figure size 640x480 with 1 Axes>"
      ]
     },
     "metadata": {},
     "output_type": "display_data"
    }
   ],
   "source": [
    "data_array = boards.reshape(-1, 15, 15, 1)\n",
    "ratings = np.array(ratings)\n",
    "\n",
    "print(boards.shape)\n",
    "print(ratings.shape)\n",
    "\n",
    "plt.hist(ratings)\n",
    "plt.show()"
   ]
  },
  {
   "cell_type": "code",
   "execution_count": 7,
   "metadata": {},
   "outputs": [
    {
     "data": {
      "image/png": "[encoded data removed]",
      "text/plain": [
       "<Figure size 640x480 with 1 Axes>"
      ]
     },
     "metadata": {},
     "output_type": "display_data"
    }
   ],
   "source": [
    "transformed_ratings = ratings / 1e9\n",
    "\n",
    "plt.hist(transformed_ratings)\n",
    "plt.show()"
   ]
  },
  {
   "cell_type": "code",
   "execution_count": 8,
   "metadata": {},
   "outputs": [],
   "source": [
    "X_train, X_test, y_train, y_test = train_test_split(boards, transformed_ratings, test_size=0.2, random_state=17)"
   ]
  },
  {
   "cell_type": "code",
   "execution_count": 11,
   "metadata": {},
   "outputs": [
    {
     "data": {
      "text/html": [
       "<pre style=\"white-space:pre;overflow-x:auto;line-height:normal;font-family:Menlo,'DejaVu Sans Mono',consolas,'Courier New',monospace\"><span style=\"font-weight: bold\">Model: \"functional_2\"</span>\n",
       "</pre>\n"
      ],
      "text/plain": [
       "\u001b[1mModel: \"functional_2\"\u001b[0m\n"
      ]
     },
     "metadata": {},
     "output_type": "display_data"
    },
    {
     "data": {
      "text/html": [
       "<pre style=\"white-space:pre;overflow-x:auto;line-height:normal;font-family:Menlo,'DejaVu Sans Mono',consolas,'Courier New',monospace\">┏━━━━━━━━━━━━━━━━━━━━━━━━━━━━━━━━━┳━━━━━━━━━━━━━━━━━━━━━━━━┳━━━━━━━━━━━━━━━┓\n",
       "┃<span style=\"font-weight: bold\"> Layer (type)                    </span>┃<span style=\"font-weight: bold\"> Output Shape           </span>┃<span style=\"font-weight: bold\">       Param # </span>┃\n",
       "┡━━━━━━━━━━━━━━━━━━━━━━━━━━━━━━━━━╇━━━━━━━━━━━━━━━━━━━━━━━━╇━━━━━━━━━━━━━━━┩\n",
       "│ input_layer_2 (<span style=\"color: #0087ff; text-decoration-color: #0087ff\">InputLayer</span>)      │ (<span style=\"color: #00d7ff; text-decoration-color: #00d7ff\">None</span>, <span style=\"color: #00af00; text-decoration-color: #00af00\">15</span>, <span style=\"color: #00af00; text-decoration-color: #00af00\">15</span>, <span style=\"color: #00af00; text-decoration-color: #00af00\">1</span>)      │             <span style=\"color: #00af00; text-decoration-color: #00af00\">0</span> │\n",
       "├─────────────────────────────────┼────────────────────────┼───────────────┤\n",
       "│ conv2d_4 (<span style=\"color: #0087ff; text-decoration-color: #0087ff\">Conv2D</span>)               │ (<span style=\"color: #00d7ff; text-decoration-color: #00d7ff\">None</span>, <span style=\"color: #00af00; text-decoration-color: #00af00\">4</span>, <span style=\"color: #00af00; text-decoration-color: #00af00\">4</span>, <span style=\"color: #00af00; text-decoration-color: #00af00\">96</span>)       │        <span style=\"color: #00af00; text-decoration-color: #00af00\">11,712</span> │\n",
       "├─────────────────────────────────┼────────────────────────┼───────────────┤\n",
       "│ max_pooling2d_4 (<span style=\"color: #0087ff; text-decoration-color: #0087ff\">MaxPooling2D</span>)  │ (<span style=\"color: #00d7ff; text-decoration-color: #00d7ff\">None</span>, <span style=\"color: #00af00; text-decoration-color: #00af00\">2</span>, <span style=\"color: #00af00; text-decoration-color: #00af00\">2</span>, <span style=\"color: #00af00; text-decoration-color: #00af00\">96</span>)       │             <span style=\"color: #00af00; text-decoration-color: #00af00\">0</span> │\n",
       "├─────────────────────────────────┼────────────────────────┼───────────────┤\n",
       "│ conv2d_5 (<span style=\"color: #0087ff; text-decoration-color: #0087ff\">Conv2D</span>)               │ (<span style=\"color: #00d7ff; text-decoration-color: #00d7ff\">None</span>, <span style=\"color: #00af00; text-decoration-color: #00af00\">2</span>, <span style=\"color: #00af00; text-decoration-color: #00af00\">2</span>, <span style=\"color: #00af00; text-decoration-color: #00af00\">256</span>)      │       <span style=\"color: #00af00; text-decoration-color: #00af00\">614,656</span> │\n",
       "├─────────────────────────────────┼────────────────────────┼───────────────┤\n",
       "│ max_pooling2d_5 (<span style=\"color: #0087ff; text-decoration-color: #0087ff\">MaxPooling2D</span>)  │ (<span style=\"color: #00d7ff; text-decoration-color: #00d7ff\">None</span>, <span style=\"color: #00af00; text-decoration-color: #00af00\">1</span>, <span style=\"color: #00af00; text-decoration-color: #00af00\">1</span>, <span style=\"color: #00af00; text-decoration-color: #00af00\">256</span>)      │             <span style=\"color: #00af00; text-decoration-color: #00af00\">0</span> │\n",
       "├─────────────────────────────────┼────────────────────────┼───────────────┤\n",
       "│ conv2d_6 (<span style=\"color: #0087ff; text-decoration-color: #0087ff\">Conv2D</span>)               │ (<span style=\"color: #00d7ff; text-decoration-color: #00d7ff\">None</span>, <span style=\"color: #00af00; text-decoration-color: #00af00\">1</span>, <span style=\"color: #00af00; text-decoration-color: #00af00\">1</span>, <span style=\"color: #00af00; text-decoration-color: #00af00\">384</span>)      │       <span style=\"color: #00af00; text-decoration-color: #00af00\">885,120</span> │\n",
       "├─────────────────────────────────┼────────────────────────┼───────────────┤\n",
       "│ flatten_2 (<span style=\"color: #0087ff; text-decoration-color: #0087ff\">Flatten</span>)             │ (<span style=\"color: #00d7ff; text-decoration-color: #00d7ff\">None</span>, <span style=\"color: #00af00; text-decoration-color: #00af00\">384</span>)            │             <span style=\"color: #00af00; text-decoration-color: #00af00\">0</span> │\n",
       "├─────────────────────────────────┼────────────────────────┼───────────────┤\n",
       "│ dense_4 (<span style=\"color: #0087ff; text-decoration-color: #0087ff\">Dense</span>)                 │ (<span style=\"color: #00d7ff; text-decoration-color: #00d7ff\">None</span>, <span style=\"color: #00af00; text-decoration-color: #00af00\">256</span>)            │        <span style=\"color: #00af00; text-decoration-color: #00af00\">98,560</span> │\n",
       "├─────────────────────────────────┼────────────────────────┼───────────────┤\n",
       "│ dense_5 (<span style=\"color: #0087ff; text-decoration-color: #0087ff\">Dense</span>)                 │ (<span style=\"color: #00d7ff; text-decoration-color: #00d7ff\">None</span>, <span style=\"color: #00af00; text-decoration-color: #00af00\">1</span>)              │           <span style=\"color: #00af00; text-decoration-color: #00af00\">257</span> │\n",
       "└─────────────────────────────────┴────────────────────────┴───────────────┘\n",
       "</pre>\n"
      ],
      "text/plain": [
       "┏━━━━━━━━━━━━━━━━━━━━━━━━━━━━━━━━━┳━━━━━━━━━━━━━━━━━━━━━━━━┳━━━━━━━━━━━━━━━┓\n",
       "┃\u001b[1m \u001b[0m\u001b[1mLayer (type)                   \u001b[0m\u001b[1m \u001b[0m┃\u001b[1m \u001b[0m\u001b[1mOutput Shape          \u001b[0m\u001b[1m \u001b[0m┃\u001b[1m \u001b[0m\u001b[1m      Param #\u001b[0m\u001b[1m \u001b[0m┃\n",
       "┡━━━━━━━━━━━━━━━━━━━━━━━━━━━━━━━━━╇━━━━━━━━━━━━━━━━━━━━━━━━╇━━━━━━━━━━━━━━━┩\n",
       "│ input_layer_2 (\u001b[38;5;33mInputLayer\u001b[0m)      │ (\u001b[38;5;45mNone\u001b[0m, \u001b[38;5;34m15\u001b[0m, \u001b[38;5;34m15\u001b[0m, \u001b[38;5;34m1\u001b[0m)      │             \u001b[38;5;34m0\u001b[0m │\n",
       "├─────────────────────────────────┼────────────────────────┼───────────────┤\n",
       "│ conv2d_4 (\u001b[38;5;33mConv2D\u001b[0m)               │ (\u001b[38;5;45mNone\u001b[0m, \u001b[38;5;34m4\u001b[0m, \u001b[38;5;34m4\u001b[0m, \u001b[38;5;34m96\u001b[0m)       │        \u001b[38;5;34m11,712\u001b[0m │\n",
       "├─────────────────────────────────┼────────────────────────┼───────────────┤\n",
       "│ max_pooling2d_4 (\u001b[38;5;33mMaxPooling2D\u001b[0m)  │ (\u001b[38;5;45mNone\u001b[0m, \u001b[38;5;34m2\u001b[0m, \u001b[38;5;34m2\u001b[0m, \u001b[38;5;34m96\u001b[0m)       │             \u001b[38;5;34m0\u001b[0m │\n",
       "├─────────────────────────────────┼────────────────────────┼───────────────┤\n",
       "│ conv2d_5 (\u001b[38;5;33mConv2D\u001b[0m)               │ (\u001b[38;5;45mNone\u001b[0m, \u001b[38;5;34m2\u001b[0m, \u001b[38;5;34m2\u001b[0m, \u001b[38;5;34m256\u001b[0m)      │       \u001b[38;5;34m614,656\u001b[0m │\n",
       "├─────────────────────────────────┼────────────────────────┼───────────────┤\n",
       "│ max_pooling2d_5 (\u001b[38;5;33mMaxPooling2D\u001b[0m)  │ (\u001b[38;5;45mNone\u001b[0m, \u001b[38;5;34m1\u001b[0m, \u001b[38;5;34m1\u001b[0m, \u001b[38;5;34m256\u001b[0m)      │             \u001b[38;5;34m0\u001b[0m │\n",
       "├─────────────────────────────────┼────────────────────────┼───────────────┤\n",
       "│ conv2d_6 (\u001b[38;5;33mConv2D\u001b[0m)               │ (\u001b[38;5;45mNone\u001b[0m, \u001b[38;5;34m1\u001b[0m, \u001b[38;5;34m1\u001b[0m, \u001b[38;5;34m384\u001b[0m)      │       \u001b[38;5;34m885,120\u001b[0m │\n",
       "├─────────────────────────────────┼────────────────────────┼───────────────┤\n",
       "│ flatten_2 (\u001b[38;5;33mFlatten\u001b[0m)             │ (\u001b[38;5;45mNone\u001b[0m, \u001b[38;5;34m384\u001b[0m)            │             \u001b[38;5;34m0\u001b[0m │\n",
       "├─────────────────────────────────┼────────────────────────┼───────────────┤\n",
       "│ dense_4 (\u001b[38;5;33mDense\u001b[0m)                 │ (\u001b[38;5;45mNone\u001b[0m, \u001b[38;5;34m256\u001b[0m)            │        \u001b[38;5;34m98,560\u001b[0m │\n",
       "├─────────────────────────────────┼────────────────────────┼───────────────┤\n",
       "│ dense_5 (\u001b[38;5;33mDense\u001b[0m)                 │ (\u001b[38;5;45mNone\u001b[0m, \u001b[38;5;34m1\u001b[0m)              │           \u001b[38;5;34m257\u001b[0m │\n",
       "└─────────────────────────────────┴────────────────────────┴───────────────┘\n"
      ]
     },
     "metadata": {},
     "output_type": "display_data"
    },
    {
     "data": {
      "text/html": [
       "<pre style=\"white-space:pre;overflow-x:auto;line-height:normal;font-family:Menlo,'DejaVu Sans Mono',consolas,'Courier New',monospace\"><span style=\"font-weight: bold\"> Total params: </span><span style=\"color: #00af00; text-decoration-color: #00af00\">1,610,305</span> (6.14 MB)\n",
       "</pre>\n"
      ],
      "text/plain": [
       "\u001b[1m Total params: \u001b[0m\u001b[38;5;34m1,610,305\u001b[0m (6.14 MB)\n"
      ]
     },
     "metadata": {},
     "output_type": "display_data"
    },
    {
     "data": {
      "text/html": [
       "<pre style=\"white-space:pre;overflow-x:auto;line-height:normal;font-family:Menlo,'DejaVu Sans Mono',consolas,'Courier New',monospace\"><span style=\"font-weight: bold\"> Trainable params: </span><span style=\"color: #00af00; text-decoration-color: #00af00\">1,610,305</span> (6.14 MB)\n",
       "</pre>\n"
      ],
      "text/plain": [
       "\u001b[1m Trainable params: \u001b[0m\u001b[38;5;34m1,610,305\u001b[0m (6.14 MB)\n"
      ]
     },
     "metadata": {},
     "output_type": "display_data"
    },
    {
     "data": {
      "text/html": [
       "<pre style=\"white-space:pre;overflow-x:auto;line-height:normal;font-family:Menlo,'DejaVu Sans Mono',consolas,'Courier New',monospace\"><span style=\"font-weight: bold\"> Non-trainable params: </span><span style=\"color: #00af00; text-decoration-color: #00af00\">0</span> (0.00 B)\n",
       "</pre>\n"
      ],
      "text/plain": [
       "\u001b[1m Non-trainable params: \u001b[0m\u001b[38;5;34m0\u001b[0m (0.00 B)\n"
      ]
     },
     "metadata": {},
     "output_type": "display_data"
    }
   ],
   "source": [
    "inp = Input(shape=(15, 15, 1))\n",
    "\n",
    "x = Conv2D(96, (11, 11), strides=(4,4), activation='relu', padding='same')(inp)\n",
    "x = MaxPooling2D((2, 2))(x)\n",
    "\n",
    "x = Conv2D(256, (5, 5), activation='relu', padding='same')(x)\n",
    "x = MaxPooling2D((2, 2))(x)\n",
    "\n",
    "x = Conv2D(384, (3, 3), activation='relu', padding='same')(x)\n",
    "\n",
    "x = Flatten()(x)\n",
    "x = Dense(256, activation='relu')(x)\n",
    "\n",
    "output = Dense(1, activation=\"linear\")(x)\n",
    "model = Model(inputs=inp, outputs=output)\n",
    "model.summary()"
   ]
  },
  {
   "cell_type": "code",
   "execution_count": 20,
   "metadata": {},
   "outputs": [
    {
     "data": {
      "text/html": [
       "<pre style=\"white-space:pre;overflow-x:auto;line-height:normal;font-family:Menlo,'DejaVu Sans Mono',consolas,'Courier New',monospace\"><span style=\"font-weight: bold\">Model: \"functional_5\"</span>\n",
       "</pre>\n"
      ],
      "text/plain": [
       "\u001b[1mModel: \"functional_5\"\u001b[0m\n"
      ]
     },
     "metadata": {},
     "output_type": "display_data"
    },
    {
     "data": {
      "text/html": [
       "<pre style=\"white-space:pre;overflow-x:auto;line-height:normal;font-family:Menlo,'DejaVu Sans Mono',consolas,'Courier New',monospace\">┏━━━━━━━━━━━━━━━━━━━━━━━━━━━━━━━━━┳━━━━━━━━━━━━━━━━━━━━━━━━┳━━━━━━━━━━━━━━━┓\n",
       "┃<span style=\"font-weight: bold\"> Layer (type)                    </span>┃<span style=\"font-weight: bold\"> Output Shape           </span>┃<span style=\"font-weight: bold\">       Param # </span>┃\n",
       "┡━━━━━━━━━━━━━━━━━━━━━━━━━━━━━━━━━╇━━━━━━━━━━━━━━━━━━━━━━━━╇━━━━━━━━━━━━━━━┩\n",
       "│ input_layer_5 (<span style=\"color: #0087ff; text-decoration-color: #0087ff\">InputLayer</span>)      │ (<span style=\"color: #00d7ff; text-decoration-color: #00d7ff\">None</span>, <span style=\"color: #00af00; text-decoration-color: #00af00\">15</span>, <span style=\"color: #00af00; text-decoration-color: #00af00\">15</span>, <span style=\"color: #00af00; text-decoration-color: #00af00\">1</span>)      │             <span style=\"color: #00af00; text-decoration-color: #00af00\">0</span> │\n",
       "├─────────────────────────────────┼────────────────────────┼───────────────┤\n",
       "│ conv2d_11 (<span style=\"color: #0087ff; text-decoration-color: #0087ff\">Conv2D</span>)              │ (<span style=\"color: #00d7ff; text-decoration-color: #00d7ff\">None</span>, <span style=\"color: #00af00; text-decoration-color: #00af00\">15</span>, <span style=\"color: #00af00; text-decoration-color: #00af00\">15</span>, <span style=\"color: #00af00; text-decoration-color: #00af00\">8</span>)      │            <span style=\"color: #00af00; text-decoration-color: #00af00\">80</span> │\n",
       "├─────────────────────────────────┼────────────────────────┼───────────────┤\n",
       "│ max_pooling2d_10 (<span style=\"color: #0087ff; text-decoration-color: #0087ff\">MaxPooling2D</span>) │ (<span style=\"color: #00d7ff; text-decoration-color: #00d7ff\">None</span>, <span style=\"color: #00af00; text-decoration-color: #00af00\">7</span>, <span style=\"color: #00af00; text-decoration-color: #00af00\">7</span>, <span style=\"color: #00af00; text-decoration-color: #00af00\">8</span>)        │             <span style=\"color: #00af00; text-decoration-color: #00af00\">0</span> │\n",
       "├─────────────────────────────────┼────────────────────────┼───────────────┤\n",
       "│ conv2d_12 (<span style=\"color: #0087ff; text-decoration-color: #0087ff\">Conv2D</span>)              │ (<span style=\"color: #00d7ff; text-decoration-color: #00d7ff\">None</span>, <span style=\"color: #00af00; text-decoration-color: #00af00\">7</span>, <span style=\"color: #00af00; text-decoration-color: #00af00\">7</span>, <span style=\"color: #00af00; text-decoration-color: #00af00\">12</span>)       │           <span style=\"color: #00af00; text-decoration-color: #00af00\">876</span> │\n",
       "├─────────────────────────────────┼────────────────────────┼───────────────┤\n",
       "│ max_pooling2d_11 (<span style=\"color: #0087ff; text-decoration-color: #0087ff\">MaxPooling2D</span>) │ (<span style=\"color: #00d7ff; text-decoration-color: #00d7ff\">None</span>, <span style=\"color: #00af00; text-decoration-color: #00af00\">3</span>, <span style=\"color: #00af00; text-decoration-color: #00af00\">3</span>, <span style=\"color: #00af00; text-decoration-color: #00af00\">12</span>)       │             <span style=\"color: #00af00; text-decoration-color: #00af00\">0</span> │\n",
       "├─────────────────────────────────┼────────────────────────┼───────────────┤\n",
       "│ flatten_5 (<span style=\"color: #0087ff; text-decoration-color: #0087ff\">Flatten</span>)             │ (<span style=\"color: #00d7ff; text-decoration-color: #00d7ff\">None</span>, <span style=\"color: #00af00; text-decoration-color: #00af00\">108</span>)            │             <span style=\"color: #00af00; text-decoration-color: #00af00\">0</span> │\n",
       "├─────────────────────────────────┼────────────────────────┼───────────────┤\n",
       "│ dense_10 (<span style=\"color: #0087ff; text-decoration-color: #0087ff\">Dense</span>)                │ (<span style=\"color: #00d7ff; text-decoration-color: #00d7ff\">None</span>, <span style=\"color: #00af00; text-decoration-color: #00af00\">120</span>)            │        <span style=\"color: #00af00; text-decoration-color: #00af00\">13,080</span> │\n",
       "├─────────────────────────────────┼────────────────────────┼───────────────┤\n",
       "│ dense_11 (<span style=\"color: #0087ff; text-decoration-color: #0087ff\">Dense</span>)                │ (<span style=\"color: #00d7ff; text-decoration-color: #00d7ff\">None</span>, <span style=\"color: #00af00; text-decoration-color: #00af00\">1</span>)              │           <span style=\"color: #00af00; text-decoration-color: #00af00\">121</span> │\n",
       "└─────────────────────────────────┴────────────────────────┴───────────────┘\n",
       "</pre>\n"
      ],
      "text/plain": [
       "┏━━━━━━━━━━━━━━━━━━━━━━━━━━━━━━━━━┳━━━━━━━━━━━━━━━━━━━━━━━━┳━━━━━━━━━━━━━━━┓\n",
       "┃\u001b[1m \u001b[0m\u001b[1mLayer (type)                   \u001b[0m\u001b[1m \u001b[0m┃\u001b[1m \u001b[0m\u001b[1mOutput Shape          \u001b[0m\u001b[1m \u001b[0m┃\u001b[1m \u001b[0m\u001b[1m      Param #\u001b[0m\u001b[1m \u001b[0m┃\n",
       "┡━━━━━━━━━━━━━━━━━━━━━━━━━━━━━━━━━╇━━━━━━━━━━━━━━━━━━━━━━━━╇━━━━━━━━━━━━━━━┩\n",
       "│ input_layer_5 (\u001b[38;5;33mInputLayer\u001b[0m)      │ (\u001b[38;5;45mNone\u001b[0m, \u001b[38;5;34m15\u001b[0m, \u001b[38;5;34m15\u001b[0m, \u001b[38;5;34m1\u001b[0m)      │             \u001b[38;5;34m0\u001b[0m │\n",
       "├─────────────────────────────────┼────────────────────────┼───────────────┤\n",
       "│ conv2d_11 (\u001b[38;5;33mConv2D\u001b[0m)              │ (\u001b[38;5;45mNone\u001b[0m, \u001b[38;5;34m15\u001b[0m, \u001b[38;5;34m15\u001b[0m, \u001b[38;5;34m8\u001b[0m)      │            \u001b[38;5;34m80\u001b[0m │\n",
       "├─────────────────────────────────┼────────────────────────┼───────────────┤\n",
       "│ max_pooling2d_10 (\u001b[38;5;33mMaxPooling2D\u001b[0m) │ (\u001b[38;5;45mNone\u001b[0m, \u001b[38;5;34m7\u001b[0m, \u001b[38;5;34m7\u001b[0m, \u001b[38;5;34m8\u001b[0m)        │             \u001b[38;5;34m0\u001b[0m │\n",
       "├─────────────────────────────────┼────────────────────────┼───────────────┤\n",
       "│ conv2d_12 (\u001b[38;5;33mConv2D\u001b[0m)              │ (\u001b[38;5;45mNone\u001b[0m, \u001b[38;5;34m7\u001b[0m, \u001b[38;5;34m7\u001b[0m, \u001b[38;5;34m12\u001b[0m)       │           \u001b[38;5;34m876\u001b[0m │\n",
       "├─────────────────────────────────┼────────────────────────┼───────────────┤\n",
       "│ max_pooling2d_11 (\u001b[38;5;33mMaxPooling2D\u001b[0m) │ (\u001b[38;5;45mNone\u001b[0m, \u001b[38;5;34m3\u001b[0m, \u001b[38;5;34m3\u001b[0m, \u001b[38;5;34m12\u001b[0m)       │             \u001b[38;5;34m0\u001b[0m │\n",
       "├─────────────────────────────────┼────────────────────────┼───────────────┤\n",
       "│ flatten_5 (\u001b[38;5;33mFlatten\u001b[0m)             │ (\u001b[38;5;45mNone\u001b[0m, \u001b[38;5;34m108\u001b[0m)            │             \u001b[38;5;34m0\u001b[0m │\n",
       "├─────────────────────────────────┼────────────────────────┼───────────────┤\n",
       "│ dense_10 (\u001b[38;5;33mDense\u001b[0m)                │ (\u001b[38;5;45mNone\u001b[0m, \u001b[38;5;34m120\u001b[0m)            │        \u001b[38;5;34m13,080\u001b[0m │\n",
       "├─────────────────────────────────┼────────────────────────┼───────────────┤\n",
       "│ dense_11 (\u001b[38;5;33mDense\u001b[0m)                │ (\u001b[38;5;45mNone\u001b[0m, \u001b[38;5;34m1\u001b[0m)              │           \u001b[38;5;34m121\u001b[0m │\n",
       "└─────────────────────────────────┴────────────────────────┴───────────────┘\n"
      ]
     },
     "metadata": {},
     "output_type": "display_data"
    },
    {
     "data": {
      "text/html": [
       "<pre style=\"white-space:pre;overflow-x:auto;line-height:normal;font-family:Menlo,'DejaVu Sans Mono',consolas,'Courier New',monospace\"><span style=\"font-weight: bold\"> Total params: </span><span style=\"color: #00af00; text-decoration-color: #00af00\">14,157</span> (55.30 KB)\n",
       "</pre>\n"
      ],
      "text/plain": [
       "\u001b[1m Total params: \u001b[0m\u001b[38;5;34m14,157\u001b[0m (55.30 KB)\n"
      ]
     },
     "metadata": {},
     "output_type": "display_data"
    },
    {
     "data": {
      "text/html": [
       "<pre style=\"white-space:pre;overflow-x:auto;line-height:normal;font-family:Menlo,'DejaVu Sans Mono',consolas,'Courier New',monospace\"><span style=\"font-weight: bold\"> Trainable params: </span><span style=\"color: #00af00; text-decoration-color: #00af00\">14,157</span> (55.30 KB)\n",
       "</pre>\n"
      ],
      "text/plain": [
       "\u001b[1m Trainable params: \u001b[0m\u001b[38;5;34m14,157\u001b[0m (55.30 KB)\n"
      ]
     },
     "metadata": {},
     "output_type": "display_data"
    },
    {
     "data": {
      "text/html": [
       "<pre style=\"white-space:pre;overflow-x:auto;line-height:normal;font-family:Menlo,'DejaVu Sans Mono',consolas,'Courier New',monospace\"><span style=\"font-weight: bold\"> Non-trainable params: </span><span style=\"color: #00af00; text-decoration-color: #00af00\">0</span> (0.00 B)\n",
       "</pre>\n"
      ],
      "text/plain": [
       "\u001b[1m Non-trainable params: \u001b[0m\u001b[38;5;34m0\u001b[0m (0.00 B)\n"
      ]
     },
     "metadata": {},
     "output_type": "display_data"
    }
   ],
   "source": [
    "inp = Input(shape=(15, 15, 1))\n",
    "\n",
    "x = Conv2D(8, (3, 3), activation='relu', padding=\"same\")(inp)\n",
    "x = Conv2D(8, (3, 3), activation='relu', padding=\"same\")(inp)\n",
    "x = MaxPooling2D((2, 2))(x)\n",
    "\n",
    "x = Conv2D(12, (3, 3), activation='relu', padding=\"same\")(x)\n",
    "x = Conv2D(12, (3, 3), activation='relu', padding=\"same\")(x)\n",
    "x = MaxPooling2D((2, 2))(x)\n",
    "\n",
    "x = Flatten()(x)\n",
    "x = Dense(120, activation='relu')(x)\n",
    "\n",
    "output = Dense(1, activation=\"linear\")(x)\n",
    "model = Model(inputs=inp, outputs=output)\n",
    "model.summary()"
   ]
  },
  {
   "cell_type": "code",
   "execution_count": 21,
   "metadata": {},
   "outputs": [],
   "source": [
    "model.compile(optimizer=Adam(0.001), loss=MeanSquaredError(), metrics=['mae'])"
   ]
  },
  {
   "cell_type": "code",
   "execution_count": 22,
   "metadata": {},
   "outputs": [
    {
     "name": "stdout",
     "output_type": "stream",
     "text": [
      "Epoch 1/60\n",
      "\u001b[1m6215/6215\u001b[0m \u001b[32m━━━━━━━━━━━━━━━━━━━━\u001b[0m\u001b[37m\u001b[0m \u001b[1m11s\u001b[0m 2ms/step - loss: 0.1435 - mae: 0.2810 - val_loss: 0.0549 - val_mae: 0.1665\n",
      "Epoch 2/60\n",
      "\u001b[1m6215/6215\u001b[0m \u001b[32m━━━━━━━━━━━━━━━━━━━━\u001b[0m\u001b[37m\u001b[0m \u001b[1m10s\u001b[0m 2ms/step - loss: 0.0493 - mae: 0.1549 - val_loss: 0.0377 - val_mae: 0.1339\n",
      "Epoch 3/60\n",
      "\u001b[1m6215/6215\u001b[0m \u001b[32m━━━━━━━━━━━━━━━━━━━━\u001b[0m\u001b[37m\u001b[0m \u001b[1m10s\u001b[0m 2ms/step - loss: 0.0375 - mae: 0.1337 - val_loss: 0.0414 - val_mae: 0.1424\n",
      "Epoch 4/60\n",
      "\u001b[1m6215/6215\u001b[0m \u001b[32m━━━━━━━━━━━━━━━━━━━━\u001b[0m\u001b[37m\u001b[0m \u001b[1m10s\u001b[0m 2ms/step - loss: 0.0319 - mae: 0.1223 - val_loss: 0.0301 - val_mae: 0.1176\n",
      "Epoch 5/60\n",
      "\u001b[1m6215/6215\u001b[0m \u001b[32m━━━━━━━━━━━━━━━━━━━━\u001b[0m\u001b[37m\u001b[0m \u001b[1m10s\u001b[0m 2ms/step - loss: 0.0281 - mae: 0.1144 - val_loss: 0.0287 - val_mae: 0.1138\n",
      "Epoch 6/60\n",
      "\u001b[1m6215/6215\u001b[0m \u001b[32m━━━━━━━━━━━━━━━━━━━━\u001b[0m\u001b[37m\u001b[0m \u001b[1m10s\u001b[0m 2ms/step - loss: 0.0257 - mae: 0.1088 - val_loss: 0.0259 - val_mae: 0.1064\n",
      "Epoch 7/60\n",
      "\u001b[1m6215/6215\u001b[0m \u001b[32m━━━━━━━━━━━━━━━━━━━━\u001b[0m\u001b[37m\u001b[0m \u001b[1m10s\u001b[0m 2ms/step - loss: 0.0240 - mae: 0.1046 - val_loss: 0.0237 - val_mae: 0.1031\n",
      "Epoch 8/60\n",
      "\u001b[1m6215/6215\u001b[0m \u001b[32m━━━━━━━━━━━━━━━━━━━━\u001b[0m\u001b[37m\u001b[0m \u001b[1m10s\u001b[0m 2ms/step - loss: 0.0227 - mae: 0.1016 - val_loss: 0.0219 - val_mae: 0.0980\n",
      "Epoch 9/60\n",
      "\u001b[1m6215/6215\u001b[0m \u001b[32m━━━━━━━━━━━━━━━━━━━━\u001b[0m\u001b[37m\u001b[0m \u001b[1m10s\u001b[0m 2ms/step - loss: 0.0214 - mae: 0.0983 - val_loss: 0.0218 - val_mae: 0.0991\n",
      "Epoch 10/60\n",
      "\u001b[1m6215/6215\u001b[0m \u001b[32m━━━━━━━━━━━━━━━━━━━━\u001b[0m\u001b[37m\u001b[0m \u001b[1m10s\u001b[0m 2ms/step - loss: 0.0201 - mae: 0.0948 - val_loss: 0.0212 - val_mae: 0.0963\n",
      "Epoch 11/60\n",
      "\u001b[1m6215/6215\u001b[0m \u001b[32m━━━━━━━━━━━━━━━━━━━━\u001b[0m\u001b[37m\u001b[0m \u001b[1m10s\u001b[0m 2ms/step - loss: 0.0194 - mae: 0.0931 - val_loss: 0.0208 - val_mae: 0.0967\n",
      "Epoch 12/60\n",
      "\u001b[1m6215/6215\u001b[0m \u001b[32m━━━━━━━━━━━━━━━━━━━━\u001b[0m\u001b[37m\u001b[0m \u001b[1m10s\u001b[0m 2ms/step - loss: 0.0187 - mae: 0.0916 - val_loss: 0.0196 - val_mae: 0.0909\n",
      "Epoch 13/60\n",
      "\u001b[1m6215/6215\u001b[0m \u001b[32m━━━━━━━━━━━━━━━━━━━━\u001b[0m\u001b[37m\u001b[0m \u001b[1m10s\u001b[0m 2ms/step - loss: 0.0180 - mae: 0.0897 - val_loss: 0.0196 - val_mae: 0.0913\n",
      "Epoch 14/60\n",
      "\u001b[1m6215/6215\u001b[0m \u001b[32m━━━━━━━━━━━━━━━━━━━━\u001b[0m\u001b[37m\u001b[0m \u001b[1m11s\u001b[0m 2ms/step - loss: 0.0178 - mae: 0.0888 - val_loss: 0.0194 - val_mae: 0.0916\n",
      "Epoch 15/60\n",
      "\u001b[1m6215/6215\u001b[0m \u001b[32m━━━━━━━━━━━━━━━━━━━━\u001b[0m\u001b[37m\u001b[0m \u001b[1m10s\u001b[0m 2ms/step - loss: 0.0171 - mae: 0.0869 - val_loss: 0.0178 - val_mae: 0.0859\n",
      "Epoch 16/60\n",
      "\u001b[1m6215/6215\u001b[0m \u001b[32m━━━━━━━━━━━━━━━━━━━━\u001b[0m\u001b[37m\u001b[0m \u001b[1m10s\u001b[0m 2ms/step - loss: 0.0168 - mae: 0.0864 - val_loss: 0.0183 - val_mae: 0.0889\n",
      "Epoch 17/60\n",
      "\u001b[1m6215/6215\u001b[0m \u001b[32m━━━━━━━━━━━━━━━━━━━━\u001b[0m\u001b[37m\u001b[0m \u001b[1m10s\u001b[0m 2ms/step - loss: 0.0163 - mae: 0.0851 - val_loss: 0.0179 - val_mae: 0.0872\n",
      "Epoch 18/60\n",
      "\u001b[1m6215/6215\u001b[0m \u001b[32m━━━━━━━━━━━━━━━━━━━━\u001b[0m\u001b[37m\u001b[0m \u001b[1m11s\u001b[0m 2ms/step - loss: 0.0159 - mae: 0.0839 - val_loss: 0.0186 - val_mae: 0.0892\n",
      "Epoch 19/60\n",
      "\u001b[1m6215/6215\u001b[0m \u001b[32m━━━━━━━━━━━━━━━━━━━━\u001b[0m\u001b[37m\u001b[0m \u001b[1m12s\u001b[0m 2ms/step - loss: 0.0158 - mae: 0.0836 - val_loss: 0.0165 - val_mae: 0.0830\n",
      "Epoch 20/60\n",
      "\u001b[1m6215/6215\u001b[0m \u001b[32m━━━━━━━━━━━━━━━━━━━━\u001b[0m\u001b[37m\u001b[0m \u001b[1m12s\u001b[0m 2ms/step - loss: 0.0153 - mae: 0.0824 - val_loss: 0.0176 - val_mae: 0.0871\n",
      "Epoch 21/60\n",
      "\u001b[1m6215/6215\u001b[0m \u001b[32m━━━━━━━━━━━━━━━━━━━━\u001b[0m\u001b[37m\u001b[0m \u001b[1m12s\u001b[0m 2ms/step - loss: 0.0151 - mae: 0.0818 - val_loss: 0.0176 - val_mae: 0.0866\n",
      "Epoch 22/60\n",
      "\u001b[1m6215/6215\u001b[0m \u001b[32m━━━━━━━━━━━━━━━━━━━━\u001b[0m\u001b[37m\u001b[0m \u001b[1m12s\u001b[0m 2ms/step - loss: 0.0147 - mae: 0.0805 - val_loss: 0.0161 - val_mae: 0.0836\n",
      "Epoch 23/60\n",
      "\u001b[1m6215/6215\u001b[0m \u001b[32m━━━━━━━━━━━━━━━━━━━━\u001b[0m\u001b[37m\u001b[0m \u001b[1m12s\u001b[0m 2ms/step - loss: 0.0144 - mae: 0.0799 - val_loss: 0.0173 - val_mae: 0.0873\n",
      "Epoch 24/60\n",
      "\u001b[1m6215/6215\u001b[0m \u001b[32m━━━━━━━━━━━━━━━━━━━━\u001b[0m\u001b[37m\u001b[0m \u001b[1m12s\u001b[0m 2ms/step - loss: 0.0144 - mae: 0.0798 - val_loss: 0.0162 - val_mae: 0.0835\n",
      "Epoch 25/60\n",
      "\u001b[1m6215/6215\u001b[0m \u001b[32m━━━━━━━━━━━━━━━━━━━━\u001b[0m\u001b[37m\u001b[0m \u001b[1m12s\u001b[0m 2ms/step - loss: 0.0146 - mae: 0.0802 - val_loss: 0.0159 - val_mae: 0.0820\n",
      "Epoch 26/60\n",
      "\u001b[1m6215/6215\u001b[0m \u001b[32m━━━━━━━━━━━━━━━━━━━━\u001b[0m\u001b[37m\u001b[0m \u001b[1m11s\u001b[0m 2ms/step - loss: 0.0140 - mae: 0.0785 - val_loss: 0.0150 - val_mae: 0.0787\n",
      "Epoch 27/60\n",
      "\u001b[1m6215/6215\u001b[0m \u001b[32m━━━━━━━━━━━━━━━━━━━━\u001b[0m\u001b[37m\u001b[0m \u001b[1m11s\u001b[0m 2ms/step - loss: 0.0138 - mae: 0.0781 - val_loss: 0.0158 - val_mae: 0.0817\n",
      "Epoch 28/60\n",
      "\u001b[1m6215/6215\u001b[0m \u001b[32m━━━━━━━━━━━━━━━━━━━━\u001b[0m\u001b[37m\u001b[0m \u001b[1m11s\u001b[0m 2ms/step - loss: 0.0136 - mae: 0.0775 - val_loss: 0.0173 - val_mae: 0.0855\n",
      "Epoch 29/60\n",
      "\u001b[1m6215/6215\u001b[0m \u001b[32m━━━━━━━━━━━━━━━━━━━━\u001b[0m\u001b[37m\u001b[0m \u001b[1m11s\u001b[0m 2ms/step - loss: 0.0138 - mae: 0.0779 - val_loss: 0.0161 - val_mae: 0.0829\n",
      "Epoch 30/60\n",
      "\u001b[1m6215/6215\u001b[0m \u001b[32m━━━━━━━━━━━━━━━━━━━━\u001b[0m\u001b[37m\u001b[0m \u001b[1m11s\u001b[0m 2ms/step - loss: 0.0134 - mae: 0.0767 - val_loss: 0.0152 - val_mae: 0.0793\n",
      "Epoch 31/60\n",
      "\u001b[1m6215/6215\u001b[0m \u001b[32m━━━━━━━━━━━━━━━━━━━━\u001b[0m\u001b[37m\u001b[0m \u001b[1m11s\u001b[0m 2ms/step - loss: 0.0134 - mae: 0.0765 - val_loss: 0.0155 - val_mae: 0.0811\n",
      "Epoch 32/60\n",
      "\u001b[1m6215/6215\u001b[0m \u001b[32m━━━━━━━━━━━━━━━━━━━━\u001b[0m\u001b[37m\u001b[0m \u001b[1m11s\u001b[0m 2ms/step - loss: 0.0131 - mae: 0.0757 - val_loss: 0.0146 - val_mae: 0.0775\n",
      "Epoch 33/60\n",
      "\u001b[1m6215/6215\u001b[0m \u001b[32m━━━━━━━━━━━━━━━━━━━━\u001b[0m\u001b[37m\u001b[0m \u001b[1m12s\u001b[0m 2ms/step - loss: 0.0130 - mae: 0.0754 - val_loss: 0.0158 - val_mae: 0.0827\n",
      "Epoch 34/60\n",
      "\u001b[1m6215/6215\u001b[0m \u001b[32m━━━━━━━━━━━━━━━━━━━━\u001b[0m\u001b[37m\u001b[0m \u001b[1m20s\u001b[0m 2ms/step - loss: 0.0130 - mae: 0.0754 - val_loss: 0.0153 - val_mae: 0.0816\n",
      "Epoch 35/60\n",
      "\u001b[1m6215/6215\u001b[0m \u001b[32m━━━━━━━━━━━━━━━━━━━━\u001b[0m\u001b[37m\u001b[0m \u001b[1m16s\u001b[0m 3ms/step - loss: 0.0129 - mae: 0.0753 - val_loss: 0.0149 - val_mae: 0.0771\n",
      "Epoch 36/60\n",
      "\u001b[1m6215/6215\u001b[0m \u001b[32m━━━━━━━━━━━━━━━━━━━━\u001b[0m\u001b[37m\u001b[0m \u001b[1m12s\u001b[0m 2ms/step - loss: 0.0127 - mae: 0.0742 - val_loss: 0.0139 - val_mae: 0.0746\n",
      "Epoch 37/60\n",
      "\u001b[1m6215/6215\u001b[0m \u001b[32m━━━━━━━━━━━━━━━━━━━━\u001b[0m\u001b[37m\u001b[0m \u001b[1m11s\u001b[0m 2ms/step - loss: 0.0127 - mae: 0.0745 - val_loss: 0.0146 - val_mae: 0.0762\n",
      "Epoch 38/60\n",
      "\u001b[1m6215/6215\u001b[0m \u001b[32m━━━━━━━━━━━━━━━━━━━━\u001b[0m\u001b[37m\u001b[0m \u001b[1m11s\u001b[0m 2ms/step - loss: 0.0124 - mae: 0.0740 - val_loss: 0.0148 - val_mae: 0.0783\n",
      "Epoch 39/60\n",
      "\u001b[1m6215/6215\u001b[0m \u001b[32m━━━━━━━━━━━━━━━━━━━━\u001b[0m\u001b[37m\u001b[0m \u001b[1m11s\u001b[0m 2ms/step - loss: 0.0123 - mae: 0.0730 - val_loss: 0.0146 - val_mae: 0.0789\n",
      "Epoch 40/60\n",
      "\u001b[1m6215/6215\u001b[0m \u001b[32m━━━━━━━━━━━━━━━━━━━━\u001b[0m\u001b[37m\u001b[0m \u001b[1m11s\u001b[0m 2ms/step - loss: 0.0122 - mae: 0.0730 - val_loss: 0.0134 - val_mae: 0.0746\n",
      "Epoch 41/60\n",
      "\u001b[1m6215/6215\u001b[0m \u001b[32m━━━━━━━━━━━━━━━━━━━━\u001b[0m\u001b[37m\u001b[0m \u001b[1m10s\u001b[0m 2ms/step - loss: 0.0122 - mae: 0.0730 - val_loss: 0.0143 - val_mae: 0.0779\n",
      "Epoch 42/60\n",
      "\u001b[1m6215/6215\u001b[0m \u001b[32m━━━━━━━━━━━━━━━━━━━━\u001b[0m\u001b[37m\u001b[0m \u001b[1m10s\u001b[0m 2ms/step - loss: 0.0122 - mae: 0.0729 - val_loss: 0.0141 - val_mae: 0.0774\n",
      "Epoch 43/60\n",
      "\u001b[1m6215/6215\u001b[0m \u001b[32m━━━━━━━━━━━━━━━━━━━━\u001b[0m\u001b[37m\u001b[0m \u001b[1m10s\u001b[0m 2ms/step - loss: 0.0121 - mae: 0.0728 - val_loss: 0.0140 - val_mae: 0.0770\n",
      "Epoch 44/60\n",
      "\u001b[1m6215/6215\u001b[0m \u001b[32m━━━━━━━━━━━━━━━━━━━━\u001b[0m\u001b[37m\u001b[0m \u001b[1m10s\u001b[0m 2ms/step - loss: 0.0121 - mae: 0.0723 - val_loss: 0.0143 - val_mae: 0.0781\n",
      "Epoch 45/60\n",
      "\u001b[1m6215/6215\u001b[0m \u001b[32m━━━━━━━━━━━━━━━━━━━━\u001b[0m\u001b[37m\u001b[0m \u001b[1m10s\u001b[0m 2ms/step - loss: 0.0120 - mae: 0.0725 - val_loss: 0.0142 - val_mae: 0.0770\n",
      "Epoch 46/60\n",
      "\u001b[1m6215/6215\u001b[0m \u001b[32m━━━━━━━━━━━━━━━━━━━━\u001b[0m\u001b[37m\u001b[0m \u001b[1m10s\u001b[0m 2ms/step - loss: 0.0117 - mae: 0.0713 - val_loss: 0.0135 - val_mae: 0.0747\n"
     ]
    }
   ],
   "source": [
    "early_stop = EarlyStopping(monitor='val_loss', patience=6, restore_best_weights=True)\n",
    "\n",
    "hst = model.fit(X_train, y_train, epochs=60, validation_data=(X_test, y_test), callbacks=[early_stop])"
   ]
  },
  {
   "cell_type": "code",
   "execution_count": 23,
   "metadata": {},
   "outputs": [
    {
     "data": {
      "image/png": "[encoded data removed]",
      "text/plain": [
       "<Figure size 1200x400 with 2 Axes>"
      ]
     },
     "metadata": {},
     "output_type": "display_data"
    }
   ],
   "source": [
    "# Plot training & validation loss values\n",
    "plt.figure(figsize=(12, 4))\n",
    "\n",
    "# Loss\n",
    "plt.subplot(1, 2, 1)\n",
    "plt.plot(hst.history['loss'], label='Train Loss')\n",
    "plt.plot(hst.history['val_loss'], label='Validation Loss')\n",
    "plt.title('Model Loss')\n",
    "plt.xlabel('Epoch')\n",
    "plt.ylabel('Loss')\n",
    "plt.legend(loc='upper right')\n",
    "\n",
    "# Metric (Mean Absolute Error in this case)\n",
    "plt.subplot(1, 2, 2)\n",
    "plt.plot(hst.history['mae'], label='Train MAE')\n",
    "plt.plot(hst.history['val_mae'], label='Validation MAE')\n",
    "plt.title('Model Mean Absolute Error')\n",
    "plt.xlabel('Epoch')\n",
    "plt.ylabel('MAE')\n",
    "plt.legend(loc='upper right')\n",
    "\n",
    "plt.show()\n"
   ]
  },
  {
   "cell_type": "code",
   "execution_count": 24,
   "metadata": {},
   "outputs": [
    {
     "name": "stdout",
     "output_type": "stream",
     "text": [
      "\u001b[1m1554/1554\u001b[0m \u001b[32m━━━━━━━━━━━━━━━━━━━━\u001b[0m\u001b[37m\u001b[0m \u001b[1m1s\u001b[0m 842us/step\n"
     ]
    }
   ],
   "source": [
    "preds = model.predict(X_test)"
   ]
  },
  {
   "cell_type": "code",
   "execution_count": 25,
   "metadata": {},
   "outputs": [
    {
     "name": "stdout",
     "output_type": "stream",
     "text": [
      "\u001b[1m1554/1554\u001b[0m \u001b[32m━━━━━━━━━━━━━━━━━━━━\u001b[0m\u001b[37m\u001b[0m \u001b[1m1s\u001b[0m 840us/step - loss: 0.0137 - mae: 0.0747\n",
      "Test Loss: [0.013410214334726334, 0.07455914467573166]\n"
     ]
    }
   ],
   "source": [
    "test_loss = model.evaluate(X_test, y_test)\n",
    "print(f'Test Loss: {test_loss}')"
   ]
  },
  {
   "cell_type": "code",
   "execution_count": 27,
   "metadata": {},
   "outputs": [
    {
     "data": {
      "image/png": "[encoded data removed]",
      "text/plain": [
       "<Figure size 640x480 with 1 Axes>"
      ]
     },
     "metadata": {},
     "output_type": "display_data"
    }
   ],
   "source": [
    "n = 150\n",
    "index = range(n)\n",
    "plt.scatter(index, y_test[:n])\n",
    "plt.scatter(index, preds[:n])\n",
    "plt.show()"
   ]
  },
  {
   "cell_type": "code",
   "execution_count": 26,
   "metadata": {},
   "outputs": [
    {
     "data": {
      "text/plain": [
       "array([[-1.0022930e+00],\n",
       "       [ 6.6766061e-04],\n",
       "       [ 9.9853474e-01],\n",
       "       ...,\n",
       "       [-1.0016495e+00],\n",
       "       [-1.0023925e+00],\n",
       "       [ 6.6766061e-04]], dtype=float32)"
      ]
     },
     "execution_count": 26,
     "metadata": {},
     "output_type": "execute_result"
    }
   ],
   "source": [
    "preds"
   ]
  }
 ],
 "metadata": {
  "kernelspec": {
   "display_name": "Python 3",
   "language": "python",
   "name": "python3"
  },
  "language_info": {
   "codemirror_mode": {
    "name": "ipython",
    "version": 3
   },
   "file_extension": ".py",
   "mimetype": "text/x-python",
   "name": "python",
   "nbconvert_exporter": "python",
   "pygments_lexer": "ipython3",
   "version": "3.10.11"
  }
 },
 "nbformat": 4,
 "nbformat_minor": 2
}
