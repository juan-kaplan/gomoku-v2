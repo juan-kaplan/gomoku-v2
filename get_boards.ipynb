{
 "cells": [
  {
   "cell_type": "code",
   "execution_count": 1,
   "metadata": {},
   "outputs": [],
   "source": [
    "import numpy as np\n",
    "import os"
   ]
  },
  {
   "cell_type": "code",
   "execution_count": 2,
   "metadata": {},
   "outputs": [],
   "source": [
    "cols = \"ABCDEFGHIJKLMNO\"\n",
    "rows = list(range(15, 0, -1))"
   ]
  },
  {
   "cell_type": "code",
   "execution_count": 10,
   "metadata": {},
   "outputs": [],
   "source": [
    "def extract_moves(filename):\n",
    "    with open(filename, 'r') as f:\n",
    "        lines = f.readlines()\n",
    "    \n",
    "    return lines[23:-1]\n",
    "\n",
    "def save_moves_to_file(moves, output_file):\n",
    "    with open(output_file, 'w') as file:\n",
    "        file.write(''.join(moves))"
   ]
  },
  {
   "cell_type": "code",
   "execution_count": 11,
   "metadata": {},
   "outputs": [],
   "source": [
    "input_directory = 'D:\\Documents\\gomoku\\gomoku-v2\\matches'\n",
    "output_directory = 'D:\\Documents\\gomoku\\gomoku-v2\\m'\n",
    "\n",
    "for i, filename in enumerate(os.listdir(input_directory)):\n",
    "    if filename.endswith(\".txt\"):\n",
    "        file_path = os.path.join(input_directory, filename)\n",
    "        moves = extract_moves(file_path)\n",
    "        \n",
    "        # Create a new filename for the extracted moves file\n",
    "        output_file = os.path.join(output_directory, f\"moves{i}.txt\")\n",
    "        \n",
    "        # Save the extracted moves to a new file\n",
    "        save_moves_to_file(moves, output_file)"
   ]
  },
  {
   "cell_type": "code",
   "execution_count": 5,
   "metadata": {},
   "outputs": [],
   "source": [
    "def play_match(match_path):\n",
    "    board = np.zeros((15, 15), dtype=int)\n",
    "    playes = []\n",
    "    with open(match_path, 'r', encoding='utf-8') as f:\n",
    "        for line in f:\n",
    "            line = line.split()\n",
    "            if len(line) < 4:\n",
    "                continue\n",
    "            playes.append(line[1])\n",
    "            playes.append(line[3])\n",
    "\n",
    "    match = []\n",
    "    for i, play in enumerate(playes):\n",
    "        number = 1 if i % 2 == 0 else -1\n",
    "\n",
    "        column = cols.index(play[0])\n",
    "        row = rows.index(int(play[1:])) \n",
    "\n",
    "        board[row, column] = number\n",
    "        match.append(board.copy())\n",
    "\n",
    "    return match"
   ]
  },
  {
   "cell_type": "code",
   "execution_count": 12,
   "metadata": {},
   "outputs": [
    {
     "name": "stdout",
     "output_type": "stream",
     "text": [
      "49706\n"
     ]
    }
   ],
   "source": [
    "existing_data = np.load('matrices.npz')\n",
    "boards = [existing_data[key] for key in existing_data.files]\n",
    "\n",
    "for filename in os.listdir(output_directory):\n",
    "    if filename.endswith(\".txt\"):\n",
    "        match_path = os.path.join(output_directory, filename)\n",
    "        match = play_match(match_path)\n",
    "        boards.extend(match)\n",
    "\n",
    "print(len(boards))\n",
    "save_dict = {}\n",
    "for idx, matrix in enumerate(boards):\n",
    "    save_dict[f'matrix_{idx}'] = matrix\n",
    "\n",
    "# Save the matrices to a .npz file\n",
    "np.savez('matrices.npz', **save_dict)"
   ]
  },
  {
   "cell_type": "code",
   "execution_count": null,
   "metadata": {},
   "outputs": [],
   "source": [
    "# Load the npz file\n",
    "data = np.load(\"matrices.npz\")\n",
    "\n",
    "# Extract all matrices\n",
    "matrices = [data[key] for key in data.files]\n",
    "\n",
    "# Identify unique matrices\n",
    "unique_matrices = []\n",
    "seen_matrices = set()\n",
    "for matrix in matrices:\n",
    "    matrix_hash = hash(matrix.tostring())\n",
    "    if matrix_hash not in seen_matrices:\n",
    "        seen_matrices.add(matrix_hash)\n",
    "        unique_matrices.append(matrix)\n",
    "\n",
    "print(len(unique_matrices))\n",
    "save_dict = {}\n",
    "for idx, matrix in enumerate(unique_matrices):\n",
    "    save_dict[f'matrix_{idx}'] = matrix\n",
    "\n",
    "np.savez('matrices.npz', **save_dict)\n"
   ]
  }
 ],
 "metadata": {
  "kernelspec": {
   "display_name": "Python 3",
   "language": "python",
   "name": "python3"
  },
  "language_info": {
   "codemirror_mode": {
    "name": "ipython",
    "version": 3
   },
   "file_extension": ".py",
   "mimetype": "text/x-python",
   "name": "python",
   "nbconvert_exporter": "python",
   "pygments_lexer": "ipython3",
   "version": "3.10.11"
  }
 },
 "nbformat": 4,
 "nbformat_minor": 2
}
